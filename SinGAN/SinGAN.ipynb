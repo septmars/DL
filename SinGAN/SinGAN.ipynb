{
 "cells": [
  {
   "cell_type": "code",
   "execution_count": 1,
   "metadata": {},
   "outputs": [],
   "source": [
    "import torch\n",
    "from torch import nn\n",
    "import torch.nn.functional as F\n"
   ]
  },
  {
   "cell_type": "code",
   "execution_count": null,
   "metadata": {},
   "outputs": [],
   "source": [
    "class ConvBlock(nn.Module):\n",
    "    def __init__(self,\n",
    "                 in_channels: int,\n",
    "                 out_channels: int,\n",
    "                 kernel_size: int,\n",
    "                 stride: int,\n",
    "                 padding: int) -> None:\n",
    "        super(ConvBlock, self).__init__()\n",
    "        self.conv = nn.Conv2d(in_channels, out_channels, kernel_size, stride, padding)\n",
    "        self.norm = nn.BatchNorm2d(out_channels)\n",
    "        self.relu = nn.LeakyReLU(0.2, True)\n",
    "    \n",
    "    def forward(self,\n",
    "                x: torch.Tensor) -> torch.Tensor:\n",
    "        return self.relu(self.norm(self.conv(x)))"
   ]
  },
  {
   "cell_type": "code",
   "execution_count": null,
   "metadata": {},
   "outputs": [],
   "source": [
    "class Discriminator(nn.Module):\n",
    "    def __init__(self,\n",
    "                 in_channels: int,\n",
    "                 out_channels: int,\n",
    "                 min_channels: int,\n",
    "                 kernel_size: int,\n",
    "                 padding: int,\n",
    "                 num_layers: int) -> None:\n",
    "        super(Discriminator, self).__init__()\n",
    "        self.head = ConvBlock(in_channels, out_channels, kernel_size, 1, padding)\n",
    "        self.body = nn.Sequential(\n",
    "            ConvBlock(max(out_channels // pow(2, i), min_channels),\n",
    "                      max(out_channels // pow(2, i + 1), min_channels),\n",
    "                      kernel_size, 1, padding)\n",
    "            for i in range(num_layers - 2)\n",
    "        )\n",
    "        self.tail = ConvBlock(max(out_channels // pow(2, num_layers - 2), min_channels), 1, kernel_size, 1, padding)\n",
    "\n",
    "    def forward(self,\n",
    "                x: torch.Tensor) -> torch.Tensor:\n",
    "        x = self.head(x)\n",
    "        x = self.body(x)\n",
    "        return self.tail(x)"
   ]
  },
  {
   "cell_type": "code",
   "execution_count": null,
   "metadata": {},
   "outputs": [],
   "source": [
    "class Generator(nn.Module):\n",
    "    def __init__(self,\n",
    "                 in_channels: int,\n",
    "                 out_channels: int,\n",
    "                 min_channels: int,\n",
    "                 kernel_size: int,\n",
    "                 padding: int,\n",
    "                 num_layers: int) -> None:\n",
    "        super(Generator, self).__init__()\n",
    "        self.head = ConvBlock(in_channels, out_channels, kernel_size, 1, padding)\n",
    "        self.body = nn.Sequential(\n",
    "            ConvBlock(max(out_channels // pow(2, i), min_channels),\n",
    "                      max(out_channels // pow(2, i + 1), min_channels),\n",
    "                      kernel_size, 1, padding)\n",
    "            for i in range(num_layers - 2)\n",
    "        )\n",
    "        self.tail = nn.Sequential(\n",
    "            ConvBlock(max(out_channels // pow(2, num_layers - 2), min_channels), 1, kernel_size, 1, padding),\n",
    "            nn.Tanh()\n",
    "        )\n",
    "    \n",
    "    def forward(self,\n",
    "                x: torch.Tensor,\n",
    "                y: torch.Tensor) -> torch.Tensor:\n",
    "        x = self.head(x)\n",
    "        x = self.body(x)\n",
    "        x = self.tail(x)\n",
    "        "
   ]
  }
 ],
 "metadata": {
  "kernelspec": {
   "display_name": "base",
   "language": "python",
   "name": "python3"
  },
  "language_info": {
   "codemirror_mode": {
    "name": "ipython",
    "version": 3
   },
   "file_extension": ".py",
   "mimetype": "text/x-python",
   "name": "python",
   "nbconvert_exporter": "python",
   "pygments_lexer": "ipython3",
   "version": "3.12.3"
  }
 },
 "nbformat": 4,
 "nbformat_minor": 2
}
