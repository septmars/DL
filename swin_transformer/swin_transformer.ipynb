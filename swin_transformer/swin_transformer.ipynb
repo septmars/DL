{
 "cells": [
  {
   "cell_type": "code",
   "execution_count": 1,
   "metadata": {},
   "outputs": [],
   "source": [
    "from typing import List, Tuple, Any, Union, Optional, Callable\n",
    "import math, copy\n",
    "import torch\n",
    "from torch import nn\n",
    "import torch.nn.functional as F\n",
    "from torchvision import transforms, datasets\n",
    "from torch.utils.data import DataLoader"
   ]
  },
  {
   "cell_type": "code",
   "execution_count": 2,
   "metadata": {},
   "outputs": [],
   "source": [
    "def clones(module: nn.Module, N: int) -> nn.ModuleList:\n",
    "    return nn.ModuleList([copy.deepcopy(module) for _ in range(N)])"
   ]
  },
  {
   "cell_type": "markdown",
   "metadata": {},
   "source": [
    "# Relative Position Bias Indices"
   ]
  },
  {
   "cell_type": "code",
   "execution_count": null,
   "metadata": {},
   "outputs": [
    {
     "name": "stdout",
     "output_type": "stream",
     "text": [
      "tensor([[True, True, True, True, True, True, True, True, True],\n",
      "        [True, True, True, True, True, True, True, True, True],\n",
      "        [True, True, True, True, True, True, True, True, True],\n",
      "        [True, True, True, True, True, True, True, True, True],\n",
      "        [True, True, True, True, True, True, True, True, True],\n",
      "        [True, True, True, True, True, True, True, True, True],\n",
      "        [True, True, True, True, True, True, True, True, True],\n",
      "        [True, True, True, True, True, True, True, True, True],\n",
      "        [True, True, True, True, True, True, True, True, True]]) \n",
      " tensor([[2, 2, 2, 3, 3, 3, 4, 4, 4],\n",
      "        [2, 2, 2, 3, 3, 3, 4, 4, 4],\n",
      "        [2, 2, 2, 3, 3, 3, 4, 4, 4],\n",
      "        [1, 1, 1, 2, 2, 2, 3, 3, 3],\n",
      "        [1, 1, 1, 2, 2, 2, 3, 3, 3],\n",
      "        [1, 1, 1, 2, 2, 2, 3, 3, 3],\n",
      "        [0, 0, 0, 1, 1, 1, 2, 2, 2],\n",
      "        [0, 0, 0, 1, 1, 1, 2, 2, 2],\n",
      "        [0, 0, 0, 1, 1, 1, 2, 2, 2]]) tensor([[2, 3, 4, 2, 3, 4, 2, 3, 4],\n",
      "        [1, 2, 3, 1, 2, 3, 1, 2, 3],\n",
      "        [0, 1, 2, 0, 1, 2, 0, 1, 2],\n",
      "        [2, 3, 4, 2, 3, 4, 2, 3, 4],\n",
      "        [1, 2, 3, 1, 2, 3, 1, 2, 3],\n",
      "        [0, 1, 2, 0, 1, 2, 0, 1, 2],\n",
      "        [2, 3, 4, 2, 3, 4, 2, 3, 4],\n",
      "        [1, 2, 3, 1, 2, 3, 1, 2, 3],\n",
      "        [0, 1, 2, 0, 1, 2, 0, 1, 2]])\n"
     ]
    }
   ],
   "source": [
    "def get_relative_distances(window_size: int) -> torch.Tensor:\n",
    "    indices = torch.tensor([[i, j] for i in range(window_size) for j in range(window_size)])\n",
    "    distances = indices[None, :, :] - indices[:, None, :]\n",
    "    return distances\n",
    "\n",
    "window_size = 3\n",
    "relative_distances_1 = get_relative_distances(window_size)\n",
    "relative_distances_2 = get_relative_distances(window_size) + window_size - 1\n",
    "pos_embedding = torch.randn(2 * window_size - 1, 2 * window_size - 1)\n",
    "print(pos_embedding[relative_distances_1[:, :, 0], relative_distances_1[:, :, 1]] == pos_embedding.roll((window_size - 1, window_size - 1), dims=(0, 1))[relative_distances_2[:, :, 0], relative_distances_2[:, :, 1]], \n",
    "      '\\n', relative_distances_2[:, :, 0], '\\n', relative_distances_2[:, :, 1])"
   ]
  },
  {
   "cell_type": "markdown",
   "metadata": {},
   "source": [
    "# Add & Norm"
   ]
  },
  {
   "cell_type": "code",
   "execution_count": null,
   "metadata": {},
   "outputs": [],
   "source": [
    "class SublayerConnection(nn.Module):\n",
    "    def __init__(self,\n",
    "                 in_features: int,\n",
    "                 dropout: float) -> None:\n",
    "        super(SublayerConnection, self).__init__()\n",
    "        self.norm = nn.LayerNorm(in_features)\n",
    "        self.dropout = nn.Dropout(dropout)\n",
    "    \n",
    "    def forward(self,\n",
    "                x: torch.Tensor,\n",
    "                sublayer: Callable[[int, int], int]) -> torch.Tensor:\n",
    "        return x + self.dropout(sublayer(self.norm(x)))"
   ]
  },
  {
   "cell_type": "markdown",
   "metadata": {},
   "source": [
    "# Positionwise FFN"
   ]
  },
  {
   "cell_type": "code",
   "execution_count": 3,
   "metadata": {},
   "outputs": [],
   "source": [
    "class FeedForward(nn.Module):\n",
    "    def __init__(self,\n",
    "                 in_features: int,\n",
    "                 hidden_features: int,\n",
    "                 out_features: int,\n",
    "                 dropout: float=0.1) -> None:\n",
    "        super(FeedForward, self).__init__()\n",
    "        self.linear1 = nn.Linear(in_features, hidden_features)\n",
    "        self.gelu = nn.GELU()\n",
    "        self.dropout1 = nn.Dropout(dropout)\n",
    "        self.linear2 = nn.Linear(hidden_features, out_features)\n",
    "        self.dropout2 = nn.Dropout(dropout)\n",
    "\n",
    "    def forward(self,\n",
    "                x: torch.Tensor) -> torch.Tensor:\n",
    "        x = self.dropout1(self.gelu(self.linear1(x)))\n",
    "        return self.dropout2(self.linear2(x))"
   ]
  },
  {
   "cell_type": "markdown",
   "metadata": {},
   "source": [
    "# Window Attention"
   ]
  },
  {
   "cell_type": "code",
   "execution_count": 4,
   "metadata": {},
   "outputs": [],
   "source": [
    "class CyclicShift(nn.Module):\n",
    "    def __init__(self, displacement: int):\n",
    "        super(CyclicShift, self).__init__()\n",
    "        self.displacement = displacement\n",
    "\n",
    "    def forward(self,\n",
    "                x: torch.Tensor) -> torch.Tensor:\n",
    "        # shape of input: [B, H, W, C]\n",
    "        return torch.roll(x, shifts=(self.displacement, self.displacement), dims=(1, 2))"
   ]
  },
  {
   "cell_type": "code",
   "execution_count": 27,
   "metadata": {},
   "outputs": [],
   "source": [
    "def create_mask(window_size: int, displacement: int, upper_lower: bool=False, left_right: bool=False) -> torch.Tensor:\n",
    "    mask = torch.ones(window_size ** 2, window_size ** 2, dtype=torch.uint8)\n",
    "    if upper_lower:\n",
    "        mask[-displacement * window_size:, :-displacement * window_size] = 0\n",
    "        mask[:-displacement * window_size, -displacement * window_size:] = 0\n",
    "    if left_right:\n",
    "        mask = mask.view(window_size, window_size, window_size, window_size)\n",
    "        mask[:, -displacement:, :, :-displacement] = 0\n",
    "        mask[:, :-displacement, :, -displacement:] = 0\n",
    "        mask = mask.view(window_size ** 2, window_size ** 2)\n",
    "    return mask"
   ]
  },
  {
   "cell_type": "code",
   "execution_count": 5,
   "metadata": {},
   "outputs": [],
   "source": [
    "class WindowAttention(nn.Module):\n",
    "    def __init__(self,\n",
    "                 in_features: int,\n",
    "                 window_size: int,\n",
    "                 number_of_heads: int,\n",
    "                 shift_size: int,\n",
    "                 dropout_attention: float = 0.1,\n",
    "                 dropout_projection: float = 0.1) -> None:\n",
    "        super(WindowAttention, self).__init__()\n",
    "        assert in_features % number_of_heads == 0, 'The num of input features (in_features) must be divisible by the number of heads'\n",
    "        self.in_features = in_features\n",
    "        self.window_size = window_size\n",
    "        self.number_of_heads = number_of_heads\n",
    "        self.shift_size = shift_size\n",
    "        self.d_k = in_features // number_of_heads\n",
    "        \n",
    "        if self.shift_size:\n",
    "            self.cyclic_shift = CyclicShift(-shift_size)\n",
    "            self.cyclic_back_shift = CyclicShift(shift_size)\n",
    "        \n",
    "        self.linears = clones(nn.Linear(in_features, in_features), 4)\n",
    "        \n",
    "        # relative_indices = get_relative_distances(window_size)\n",
    "        # self.pos_embedding = nn.Parameter(torch.randn(2 * window_size - 1, 2 * window_size - 1))[relative_indices[:, :, 0], relative_indices[:, :, 1]]\n",
    "        \n",
    "        self.dropout_attention = nn.Dropout(dropout_attention)\n",
    "        self.dropout_projection = nn.Dropout(dropout_projection)\n",
    "\n",
    "    def forward(self,\n",
    "                x: torch.Tensor,\n",
    "                mask: Optional[Tuple[torch.Tensor, torch.Tensor]] = None) -> torch.Tensor:\n",
    "        # shape of input: [B, H, W, C]\n",
    "        if self.shift_size:\n",
    "            x = self.cyclic_shift(x)\n",
    "        b, h, w, _,  = x.shape\n",
    "        nw_h, nw_w = h // self.window_size, w // self.window_size\n",
    "        # shape of query, key, value: [b, h, nw_h, nw_w, window_size, window_size, d_k]\n",
    "        query, key, value = [lin(x).view(b, nw_h, self.window_size, nw_w, self.window_size, self.number_of_heads, self.d_k).permute(0, 5, 1, 3, 2, 4, 6)\n",
    "                             .contiguous().view(b, self.number_of_heads, nw_h * nw_w, self.window_size * self.window_size, self.d_k)\n",
    "                        for lin, x in zip(self.linears, (x, x, x))]\n",
    "        scores = torch.matmul(query, key.transpose(-2, -1)) / math.sqrt(self.d_k) # + self.pos_embedding\n",
    "        \n",
    "        if self.shift_size:\n",
    "            scores[:, :, -nw_w:].masked_fill_(mask[0] == 0, -1e9)\n",
    "            scores[:, :, nw_w - 1::nw_w].masked_fill_(mask[1] == 0, -1e9)\n",
    "        p_attn = self.dropout_attention(F.softmax(scores, dim=-1))\n",
    "        # shape of x: [b, h, nw_h, nw_w, window_size, window_size, d_k]\n",
    "        x = torch.matmul(p_attn, value)\n",
    "\n",
    "        x = x.view(b, self.number_of_heads, nw_h, nw_w, self.window_size, self.window_size, self.d_k).permute(0, 2, 4, 3, 5, 1, 6).contiguous().view(b, h, w, -1)\n",
    "        x = self.dropout_projection(self.linears[-1](x))\n",
    "        if self.shift_size:\n",
    "            x = self.cyclic_back_shift(x)\n",
    "        # shape of output: [B, H, W, C]\n",
    "        return x"
   ]
  },
  {
   "cell_type": "markdown",
   "metadata": {},
   "source": [
    "# Patch Merging & Swin Block & Stage"
   ]
  },
  {
   "cell_type": "code",
   "execution_count": 6,
   "metadata": {},
   "outputs": [],
   "source": [
    "class SwinBlock(nn.Module):\n",
    "    def __init__(self,\n",
    "                 in_features: int,\n",
    "                 window_size: int,\n",
    "                 number_of_heads: int,\n",
    "                 shift_size: int = 0,\n",
    "                 ffn_feature_ratio: int = 4,\n",
    "                 dropout_attention: float = 0.1,\n",
    "                 dropout: float = 0.1,\n",
    "                 ) -> None:\n",
    "        super(SwinBlock, self).__init__()\n",
    "        self.norm1 = nn.LayerNorm(in_features)\n",
    "        self.attention = WindowAttention(in_features, window_size, number_of_heads, shift_size, dropout_attention, dropout)\n",
    "        self.dropout1 = nn.Dropout(dropout)\n",
    "        self.norm2 = nn.LayerNorm(in_features)\n",
    "        self.feed_forward = FeedForward(in_features, in_features * ffn_feature_ratio, in_features, dropout)\n",
    "        self.dropout2 = nn.Dropout(dropout)\n",
    "\n",
    "    def forward(self,\n",
    "                x: torch.Tensor,\n",
    "                mask: Optional[Tuple[torch.Tensor, torch.Tensor]] = None) -> torch.Tensor:\n",
    "        # shape of input: [B, H, W, C]\n",
    "        x = x + self.dropout1(self.attention(self.norm1(x), mask))\n",
    "        return x + self.dropout2(self.feed_forward(self.norm2(x)))"
   ]
  },
  {
   "cell_type": "code",
   "execution_count": 7,
   "metadata": {},
   "outputs": [],
   "source": [
    "class PatchMerging(nn.Module):\n",
    "    def __init__(self, in_channels: int, out_channels: int, downscaling_factor: int):\n",
    "        super(PatchMerging, self).__init__()\n",
    "        self.downscaling_factor = downscaling_factor\n",
    "        self.patch_merge = nn.Unfold(kernel_size=downscaling_factor, stride=downscaling_factor, padding=0)\n",
    "        self.linear = nn.Linear(in_channels * downscaling_factor ** 2, out_channels)\n",
    "    \n",
    "    def forward(self, x: torch.Tensor) -> torch.Tensor:\n",
    "        # shape of input: [B, C, H, W]\n",
    "        b, c, h, w = x.shape\n",
    "        new_h, new_w = h // self.downscaling_factor, w // self.downscaling_factor\n",
    "        x = self.patch_merge(x).view(b, -1, new_h, new_w).permute(0, 2, 3, 1)\n",
    "        # shape of output: [B, H // scale_factor, W // scale_factor, C']\n",
    "        return self.linear(x)"
   ]
  },
  {
   "cell_type": "code",
   "execution_count": 8,
   "metadata": {},
   "outputs": [],
   "source": [
    "\n",
    "class StageModule(nn.Module):\n",
    "    def __init__(self,\n",
    "                 in_channels: int,\n",
    "                 in_features: int,\n",
    "                 window_size: int,\n",
    "                 number_of_heads: int, \n",
    "                 ffn_feature_ratio: int,\n",
    "                 layers: int,\n",
    "                 downscaling_factor: int,\n",
    "                 dropout_attention: float=0.1,\n",
    "                 dropout: float=0.1):\n",
    "        super(StageModule, self).__init__()\n",
    "        assert layers % 2 == 0, 'number of layers must be divisible by 2 for regular and shifted block'\n",
    "        self.window_size = window_size\n",
    "        self.shift_size = window_size // 2\n",
    "        self.patch_merging = PatchMerging(in_channels, in_features, downscaling_factor)\n",
    "        self.layers_regular = nn.ModuleList([SwinBlock(in_features, window_size, number_of_heads, 0, ffn_feature_ratio, dropout_attention, dropout) for _ in range(layers // 2)])\n",
    "        self.layers_shifted = nn.ModuleList([SwinBlock(in_features, window_size, number_of_heads, window_size // 2, ffn_feature_ratio, dropout_attention, dropout) for _ in range(layers // 2)])\n",
    "        self.__create_mask()\n",
    "        \n",
    "    def __create_mask(self) -> None:\n",
    "        # create left_right_mask\n",
    "        left_right_mask: torch.Tensor = torch.ones(self.window_size, self.window_size, self.window_size, self.window_size, dtype=torch.uint8)\n",
    "        left_right_mask[:, -self.shift_size:, :, :-self.shift_size] = 0\n",
    "        left_right_mask[:, :-self.shift_size, :, -self.shift_size:] = 0\n",
    "        left_right_mask = left_right_mask.view(window_size ** 2, window_size ** 2)\n",
    "        # create upper_lower_mask\n",
    "        upper_lower_mask: torch.Tensor = torch.ones(self.window_size ** 2, self.window_size ** 2, dtype=torch.uint8)\n",
    "        upper_lower_mask[-self.shift_size * self.window_size:, :-self.shift_size * self.window_size] = 0\n",
    "        upper_lower_mask[:-self.shift_size * self.window_size, -self.shift_size * self.window_size:] = 0\n",
    "        self.register_buffer('left_right_mask', left_right_mask)\n",
    "        self.register_buffer('upper_lower_mask', upper_lower_mask)\n",
    "\n",
    "    def forward(self, \n",
    "                x: torch.Tensor) -> torch.Tensor:\n",
    "        # shape of input: [B, C, H, W]\n",
    "        x = self.patch_merging(x)\n",
    "        for layer_regular, layer_shifted in zip(self.layers_regular, self.layers_shifted):\n",
    "            x = layer_regular(x)\n",
    "            x = layer_shifted(x, (self.upper_lower_mask, self.left_right_mask))\n",
    "        # shape of output: [B, C', H', W']\n",
    "        return x.permute(0, 3, 1, 2)"
   ]
  },
  {
   "cell_type": "markdown",
   "metadata": {},
   "source": [
    "# Swin Transformer"
   ]
  },
  {
   "cell_type": "code",
   "execution_count": 9,
   "metadata": {},
   "outputs": [],
   "source": [
    "class SwinTransformer(nn.Module):\n",
    "    def __init__(self,\n",
    "                 *,\n",
    "                 in_channels: int = 3,\n",
    "                 num_classes: int=10,\n",
    "                 in_features: int = 96,\n",
    "                 window_size: int=7,\n",
    "                 heads: Tuple[int, int, int, int] = (3, 6, 12, 24),\n",
    "                 ffn_feature_ratio: int = 4,\n",
    "                 num_layers: Tuple[int, int, int, int] = (2, 2, 6, 2),\n",
    "                 downscaling_factors: Tuple[int, int, int, int] = (4, 2, 2, 2),\n",
    "                 dropout_attention: float=0.1,\n",
    "                 dropout: float=0.1) -> None:\n",
    "        super(SwinTransformer, self).__init__()\n",
    "        self.stage1 = StageModule(in_channels, in_features, window_size, heads[0], ffn_feature_ratio, num_layers[0], downscaling_factors[0], dropout_attention, dropout)\n",
    "        self.stage2 = StageModule(in_features, in_features * 2, window_size, heads[1], ffn_feature_ratio, num_layers[1], downscaling_factors[1], dropout_attention, dropout)\n",
    "        self.stage3 = StageModule(in_features * 2, in_features * 4, window_size, heads[2], ffn_feature_ratio, num_layers[2], downscaling_factors[2], dropout_attention, dropout)\n",
    "        self.stage4 = StageModule(in_features * 4, in_features * 8, window_size, heads[3], ffn_feature_ratio, num_layers[3], downscaling_factors[3], dropout_attention, dropout)\n",
    "\n",
    "        self.mlp_head = nn.Sequential(\n",
    "            nn.LayerNorm(in_features * 8),\n",
    "            nn.Linear(in_features * 8, num_classes)\n",
    "        )\n",
    "        \n",
    "    def forward(self, \n",
    "                x: torch.Tensor) -> torch.Tensor:\n",
    "        # shape of input: [B, C, H, W]\n",
    "        x = self.stage1(x)\n",
    "        x = self.stage2(x)\n",
    "        x = self.stage3(x)\n",
    "        x = self.stage4(x)\n",
    "        # shape of output: [B, num_classes]\n",
    "        return self.mlp_head(x.mean(dim=[2, 3]))"
   ]
  },
  {
   "cell_type": "code",
   "execution_count": 33,
   "metadata": {},
   "outputs": [],
   "source": [
    "def swin_tiny_patch4_window7_224(d_model: int=96, num_layers: tuple[int, int, int, int]=(2, 2, 6, 2), heads: tuple[int, int, int, int]=(3, 6, 12, 24)) -> SwinTransformer:\n",
    "    return SwinTransformer(d_model=d_model, heads=heads, num_layers=num_layers)\n",
    "\n",
    "def swin_small_patch4_window7_224(d_model: int=96, num_layers: tuple[int, int, int, int]=(2, 2, 18, 2), heads: tuple[int, int, int, int]=(3, 6, 12, 24)) -> SwinTransformer:\n",
    "    return SwinTransformer(d_model=d_model, heads=heads, num_layers=num_layers)\n",
    "\n",
    "def swin_base_patch4_window7_224(d_model: int=128, num_layers: tuple[int, int, int, int]=(2, 2, 18, 2), heads: tuple[int, int, int, int]=(4, 8, 16, 32)) -> SwinTransformer:\n",
    "    return SwinTransformer(d_model=d_model, heads=heads, num_layers=num_layers)\n",
    "\n",
    "def swin_large_patch4_window7_224(d_model: int=192, num_layers: tuple[int, int, int, int]=(2, 2, 18, 2), heads: tuple[int, int, int, int]=(6, 12, 24, 48)) -> SwinTransformer:\n",
    "    return SwinTransformer(d_model=d_model, heads=heads, num_layers=num_layers)"
   ]
  },
  {
   "cell_type": "markdown",
   "metadata": {},
   "source": [
    "# Train"
   ]
  },
  {
   "cell_type": "code",
   "execution_count": 10,
   "metadata": {},
   "outputs": [],
   "source": [
    "batch_size = 128\n",
    "img_size = 96\n",
    "transform = transforms.Compose([\n",
    "    transforms.Resize(img_size),\n",
    "    transforms.ToTensor()\n",
    "])\n",
    "data_train = datasets.FashionMNIST(root=\"../data\", train=True, download=True, transform=transform)\n",
    "data_val = datasets.FashionMNIST(root=\"../data\", train=False, download=True, transform=transform)\n",
    "loader_train = DataLoader(data_train, batch_size=batch_size, shuffle=True)\n",
    "loader_val = DataLoader(data_val, batch_size=batch_size, shuffle=False)"
   ]
  },
  {
   "cell_type": "code",
   "execution_count": 11,
   "metadata": {},
   "outputs": [],
   "source": [
    "device = torch.device(\"cuda\" if torch.cuda.is_available() else \"cpu\")\n",
    "d_model = 96\n",
    "num_layers = (2, 2, 4, 2)\n",
    "heads = (3, 6, 12, 24)\n",
    "window_size = 3\n",
    "dropout = 0.1\n",
    "num_classes = 10\n",
    "in_channels = 1\n",
    "model = SwinTransformer(in_channels=1, window_size=window_size, num_layers=num_layers).to(device)\n",
    "optim = torch.optim.Adam(model.parameters(), lr=1e-4)\n",
    "loss = F.cross_entropy\n"
   ]
  },
  {
   "cell_type": "code",
   "execution_count": 12,
   "metadata": {},
   "outputs": [
    {
     "name": "stdout",
     "output_type": "stream",
     "text": [
      "Epoch: 001, Train Loss: 0.6883, Train Acc: 0.7469, Val Loss: 0.4597, Val Acc: 0.8376\n",
      "Epoch: 002, Train Loss: 0.3808, Train Acc: 0.8591, Val Loss: 0.3746, Val Acc: 0.8605\n",
      "Epoch: 003, Train Loss: 0.3269, Train Acc: 0.8798, Val Loss: 0.3281, Val Acc: 0.8779\n",
      "Epoch: 004, Train Loss: 0.3001, Train Acc: 0.8884, Val Loss: 0.3089, Val Acc: 0.8848\n",
      "Epoch: 005, Train Loss: 0.2753, Train Acc: 0.8971, Val Loss: 0.2954, Val Acc: 0.8878\n",
      "Epoch: 006, Train Loss: 0.2586, Train Acc: 0.9013, Val Loss: 0.2887, Val Acc: 0.8940\n",
      "Epoch: 007, Train Loss: 0.2430, Train Acc: 0.9072, Val Loss: 0.2869, Val Acc: 0.8951\n",
      "Epoch: 008, Train Loss: 0.2273, Train Acc: 0.9146, Val Loss: 0.2832, Val Acc: 0.8972\n",
      "Epoch: 009, Train Loss: 0.2138, Train Acc: 0.9185, Val Loss: 0.2726, Val Acc: 0.8999\n",
      "Epoch: 010, Train Loss: 0.2019, Train Acc: 0.9235, Val Loss: 0.2803, Val Acc: 0.8990\n",
      "Epoch: 011, Train Loss: 0.1923, Train Acc: 0.9265, Val Loss: 0.2577, Val Acc: 0.9093\n",
      "Epoch: 012, Train Loss: 0.1799, Train Acc: 0.9314, Val Loss: 0.2670, Val Acc: 0.9054\n",
      "Epoch: 013, Train Loss: 0.1711, Train Acc: 0.9352, Val Loss: 0.2613, Val Acc: 0.9075\n",
      "Epoch: 014, Train Loss: 0.1589, Train Acc: 0.9400, Val Loss: 0.2554, Val Acc: 0.9146\n",
      "Epoch: 015, Train Loss: 0.1497, Train Acc: 0.9429, Val Loss: 0.2647, Val Acc: 0.9123\n"
     ]
    },
    {
     "ename": "KeyboardInterrupt",
     "evalue": "",
     "output_type": "error",
     "traceback": [
      "\u001b[1;31m---------------------------------------------------------------------------\u001b[0m",
      "\u001b[1;31mKeyboardInterrupt\u001b[0m                         Traceback (most recent call last)",
      "Cell \u001b[1;32mIn[12], line 10\u001b[0m\n\u001b[0;32m      8\u001b[0m l \u001b[38;5;241m=\u001b[39m loss(y_pred, y, reduction\u001b[38;5;241m=\u001b[39m\u001b[38;5;124m\"\u001b[39m\u001b[38;5;124msum\u001b[39m\u001b[38;5;124m\"\u001b[39m)\n\u001b[0;32m      9\u001b[0m optim\u001b[38;5;241m.\u001b[39mzero_grad()\n\u001b[1;32m---> 10\u001b[0m l\u001b[38;5;241m.\u001b[39mbackward()\n\u001b[0;32m     11\u001b[0m optim\u001b[38;5;241m.\u001b[39mstep()\n\u001b[0;32m     12\u001b[0m \u001b[38;5;28;01mwith\u001b[39;00m torch\u001b[38;5;241m.\u001b[39mno_grad():\n",
      "File \u001b[1;32md:\\Environment\\miniconda\\Lib\\site-packages\\torch\\_tensor.py:581\u001b[0m, in \u001b[0;36mTensor.backward\u001b[1;34m(self, gradient, retain_graph, create_graph, inputs)\u001b[0m\n\u001b[0;32m    571\u001b[0m \u001b[38;5;28;01mif\u001b[39;00m has_torch_function_unary(\u001b[38;5;28mself\u001b[39m):\n\u001b[0;32m    572\u001b[0m     \u001b[38;5;28;01mreturn\u001b[39;00m handle_torch_function(\n\u001b[0;32m    573\u001b[0m         Tensor\u001b[38;5;241m.\u001b[39mbackward,\n\u001b[0;32m    574\u001b[0m         (\u001b[38;5;28mself\u001b[39m,),\n\u001b[1;32m   (...)\u001b[0m\n\u001b[0;32m    579\u001b[0m         inputs\u001b[38;5;241m=\u001b[39minputs,\n\u001b[0;32m    580\u001b[0m     )\n\u001b[1;32m--> 581\u001b[0m torch\u001b[38;5;241m.\u001b[39mautograd\u001b[38;5;241m.\u001b[39mbackward(\n\u001b[0;32m    582\u001b[0m     \u001b[38;5;28mself\u001b[39m, gradient, retain_graph, create_graph, inputs\u001b[38;5;241m=\u001b[39minputs\n\u001b[0;32m    583\u001b[0m )\n",
      "File \u001b[1;32md:\\Environment\\miniconda\\Lib\\site-packages\\torch\\autograd\\__init__.py:347\u001b[0m, in \u001b[0;36mbackward\u001b[1;34m(tensors, grad_tensors, retain_graph, create_graph, grad_variables, inputs)\u001b[0m\n\u001b[0;32m    342\u001b[0m     retain_graph \u001b[38;5;241m=\u001b[39m create_graph\n\u001b[0;32m    344\u001b[0m \u001b[38;5;66;03m# The reason we repeat the same comment below is that\u001b[39;00m\n\u001b[0;32m    345\u001b[0m \u001b[38;5;66;03m# some Python versions print out the first line of a multi-line function\u001b[39;00m\n\u001b[0;32m    346\u001b[0m \u001b[38;5;66;03m# calls in the traceback and some print out the last line\u001b[39;00m\n\u001b[1;32m--> 347\u001b[0m _engine_run_backward(\n\u001b[0;32m    348\u001b[0m     tensors,\n\u001b[0;32m    349\u001b[0m     grad_tensors_,\n\u001b[0;32m    350\u001b[0m     retain_graph,\n\u001b[0;32m    351\u001b[0m     create_graph,\n\u001b[0;32m    352\u001b[0m     inputs,\n\u001b[0;32m    353\u001b[0m     allow_unreachable\u001b[38;5;241m=\u001b[39m\u001b[38;5;28;01mTrue\u001b[39;00m,\n\u001b[0;32m    354\u001b[0m     accumulate_grad\u001b[38;5;241m=\u001b[39m\u001b[38;5;28;01mTrue\u001b[39;00m,\n\u001b[0;32m    355\u001b[0m )\n",
      "File \u001b[1;32md:\\Environment\\miniconda\\Lib\\site-packages\\torch\\autograd\\graph.py:825\u001b[0m, in \u001b[0;36m_engine_run_backward\u001b[1;34m(t_outputs, *args, **kwargs)\u001b[0m\n\u001b[0;32m    823\u001b[0m     unregister_hooks \u001b[38;5;241m=\u001b[39m _register_logging_hooks_on_whole_graph(t_outputs)\n\u001b[0;32m    824\u001b[0m \u001b[38;5;28;01mtry\u001b[39;00m:\n\u001b[1;32m--> 825\u001b[0m     \u001b[38;5;28;01mreturn\u001b[39;00m Variable\u001b[38;5;241m.\u001b[39m_execution_engine\u001b[38;5;241m.\u001b[39mrun_backward(  \u001b[38;5;66;03m# Calls into the C++ engine to run the backward pass\u001b[39;00m\n\u001b[0;32m    826\u001b[0m         t_outputs, \u001b[38;5;241m*\u001b[39margs, \u001b[38;5;241m*\u001b[39m\u001b[38;5;241m*\u001b[39mkwargs\n\u001b[0;32m    827\u001b[0m     )  \u001b[38;5;66;03m# Calls into the C++ engine to run the backward pass\u001b[39;00m\n\u001b[0;32m    828\u001b[0m \u001b[38;5;28;01mfinally\u001b[39;00m:\n\u001b[0;32m    829\u001b[0m     \u001b[38;5;28;01mif\u001b[39;00m attach_logging_hooks:\n",
      "\u001b[1;31mKeyboardInterrupt\u001b[0m: "
     ]
    }
   ],
   "source": [
    "max_epochs = 50\n",
    "for epoch in range(max_epochs):\n",
    "    model.train()\n",
    "    train_loss = train_count = train_acc = 0\n",
    "    for i, (x, y) in enumerate(loader_train):\n",
    "        x, y = x.to(device), y.to(device)\n",
    "        y_pred = model(x)\n",
    "        l = loss(y_pred, y, reduction=\"sum\")\n",
    "        optim.zero_grad()\n",
    "        l.backward()\n",
    "        optim.step()\n",
    "        with torch.no_grad():\n",
    "            train_loss += l.item()\n",
    "            train_count += y.size(0)\n",
    "            train_acc += (y_pred.argmax(1) == y).sum().item()\n",
    "    model.eval()\n",
    "    val_loss = val_count = val_acc = 0\n",
    "    with torch.no_grad():\n",
    "        for x, y in loader_val:\n",
    "            x, y = x.to(device), y.to(device)\n",
    "            y_pred = model(x)\n",
    "            l = loss(y_pred, y, reduction=\"sum\")\n",
    "            val_loss += l.item()\n",
    "            val_count += y.size(0)\n",
    "            val_acc += (y_pred.argmax(1) == y).sum().item()\n",
    "    print(f\"Epoch: {epoch + 1:03d}, Train Loss: {train_loss / train_count:.4f}, Train Acc: {train_acc / train_count:.4f}, Val Loss: {val_loss / val_count:.4f}, Val Acc: {val_acc / val_count:.4f}\")"
   ]
  },
  {
   "cell_type": "code",
   "execution_count": 13,
   "metadata": {},
   "outputs": [],
   "source": [
    "torch.save(model.state_dict(), \"model1.pth\")"
   ]
  },
  {
   "cell_type": "code",
   "execution_count": null,
   "metadata": {},
   "outputs": [],
   "source": []
  }
 ],
 "metadata": {
  "kernelspec": {
   "display_name": "base",
   "language": "python",
   "name": "python3"
  },
  "language_info": {
   "codemirror_mode": {
    "name": "ipython",
    "version": 3
   },
   "file_extension": ".py",
   "mimetype": "text/x-python",
   "name": "python",
   "nbconvert_exporter": "python",
   "pygments_lexer": "ipython3",
   "version": "3.12.3"
  }
 },
 "nbformat": 4,
 "nbformat_minor": 2
}
