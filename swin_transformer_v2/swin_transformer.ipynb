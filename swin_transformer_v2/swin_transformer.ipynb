{
 "cells": [
  {
   "cell_type": "code",
   "execution_count": 2,
   "metadata": {},
   "outputs": [],
   "source": [
    "from typing import Tuple, Optional, List, Union, Any\n",
    "import torch\n",
    "import torch.nn as nn\n",
    "import torch.nn.functional as F\n",
    "import torch.utils.checkpoint as checkpoint"
   ]
  },
  {
   "cell_type": "code",
   "execution_count": null,
   "metadata": {},
   "outputs": [],
   "source": [
    "class FeedForward(nn.Module):\n",
    "    def __init__(self,\n",
    "                 in_features: int,\n",
    "                 hidden_features: int,\n",
    "                 out_features: int,\n",
    "                 dropout: float = 0.1,) -> None:\n",
    "        self.fc1 = nn.Linear(in_features, hidden_features)\n",
    "        self.dropout1 = nn.Dropout(dropout)\n",
    "        self.fc2 = nn.Linear(hidden_features, out_features)\n",
    "        self.dropout2 = nn.Dropout(dropout)\n",
    "    \n",
    "    def forward(self,\n",
    "                x: torch.Tensor) -> torch.Tensor:\n",
    "        x = self.dropout1(F.gelu(self.fc1(x)))\n",
    "        return self.dropout2(self.fc2(x))\n",
    "        "
   ]
  },
  {
   "cell_type": "code",
   "execution_count": null,
   "metadata": {},
   "outputs": [],
   "source": [
    "def get_relative_distances(window_size: int) -> torch.Tensor:\n"
   ]
  },
  {
   "cell_type": "code",
   "execution_count": null,
   "metadata": {},
   "outputs": [],
   "source": [
    "class WindowMultiHeadAttention(nn.Module):\n",
    "    def __init__(self,\n",
    "                 in_features: int,\n",
    "                 window_size: int,\n",
    "                 number_of_heads: int,\n",
    "                 dropout_attention: float = 0.1,\n",
    "                 dropout_projection: float = 0.1,\n",
    "                 meta_network_hidden_features: int = 256,\n",
    "                 sequential_self_attention: bool = False) -> None:\n",
    "        super(WindowMultiHeadAttention, self).__init__()\n",
    "        assert in_features % number_of_heads == 0, 'in_features must be divisible by number_of_heads'\n",
    "        self.in_features: int = in_features\n",
    "        self.window_size: int = window_size\n",
    "        self.num_of_heads: int = number_of_heads\n",
    "        self.sequential_self_attention: bool = sequential_self_attention\n",
    "        self.linears: nn.Module = nn.ModuleList([nn.Linear(in_features, in_features) for _ in range(4)])\n",
    "        self.attention_dropout: nn.Dropout = nn.Dropout(dropout_attention)\n",
    "        self.dropout: nn.Dropout = nn.Dropout(dropout_projection)\n",
    "        self.meta_network: nn.Module = nn.Sequential(\n",
    "            nn.Linear(in_features=2, out_features=meta_network_hidden_features),\n",
    "            nn.ReLU(),\n",
    "            nn.Linear(in_features=meta_network_hidden_features, out_features=number_of_heads),\n",
    "        )\n",
    "        self.tau = nn.Parameter(torch.ones(1, number_of_heads, 1, 1))\n",
    "        self.__make_pairwise_relative_positions()\n",
    "    \n",
    "    def __make_pairwise_relative_positions(self) -> None:\n",
    "        indices = torch.arange(self.window_size)\n",
    "        coordinates = torch.stack(torch.meshgrid([indices, indices]), dim=0)\n",
    "        coordinates = coordinates.flatten(1).transpose(0, 1)\n",
    "        relative_distances = coordinates[None, :, :] - coordinates[:, None, :]\n",
    "        # shape of relative_distances_log: [window_size ** 2, window_size ** 2, 2]\n",
    "        relative_distances_log = torch.sign(relative_distances) * torch.log(torch.abs(relative_distances) + 1)\n",
    "        self.register_buffer('relative_distances_log', relative_distances_log)\n",
    "    \n",
    "    def update_resolution(self,\n",
    "                          new_window_size: int) -> None:\n",
    "        self.window_size: int = new_window_size\n",
    "        self.__make_pairwise_relative_positions()\n",
    "    \n",
    "    def __get_relative_positional_encodings(self) -> torch.Tensor:\n",
    "        relative_position_bias: torch.Tensor = self.meta_network(self.relative_distances_log)\n",
    "        relative_position_bias = relative_position_bias.permute(2, 0, 1).contiguous().view(self.num_of_heads, self.window_size ** 2, self.window_size ** 2)\n",
    "        return relative_position_bias.unsqueeze(0)\n",
    "    \n",
    "    def __self_attention(self,\n",
    "                         query: torch.Tensor,\n",
    "                         key: torch.Tensor,\n",
    "                         value: torch.Tensor,\n",
    "                         batch_size: int,\n",
    "                         tokens: int,\n",
    "                         mask: Optional[torch.Tensor] = None) -> torch.Tensor:\n",
    "        attention_map = torch.matmul(query, key) / (torch.norm(query, dim=-1, keepdim=True) * torch.norm(key, dim=-1, keepdim=True))\n",
    "        attention_map = attention_map / max(0.01, self.tau)\n",
    "        attention_map = attention_map + self.__get_relative_positional_encodings()\n",
    "        if mask is not None:\n",
    "            "
   ]
  }
 ],
 "metadata": {
  "kernelspec": {
   "display_name": "base",
   "language": "python",
   "name": "python3"
  },
  "language_info": {
   "codemirror_mode": {
    "name": "ipython",
    "version": 3
   },
   "file_extension": ".py",
   "mimetype": "text/x-python",
   "name": "python",
   "nbconvert_exporter": "python",
   "pygments_lexer": "ipython3",
   "version": "3.12.3"
  }
 },
 "nbformat": 4,
 "nbformat_minor": 2
}
