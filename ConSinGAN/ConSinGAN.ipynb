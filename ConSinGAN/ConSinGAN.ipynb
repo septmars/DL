{
 "cells": [
  {
   "cell_type": "code",
   "execution_count": 1,
   "metadata": {},
   "outputs": [],
   "source": [
    "import os\n",
    "import torch\n",
    "from torch import nn\n",
    "import torch.nn.functional as F\n",
    "from typing import Tuple, List, Optional\n",
    "import math\n",
    "import copy\n",
    "import tqdm\n",
    "import matplotlib.pyplot as plt"
   ]
  },
  {
   "cell_type": "markdown",
   "metadata": {},
   "source": [
    "# The Basic Building Block"
   ]
  },
  {
   "cell_type": "code",
   "execution_count": 2,
   "metadata": {},
   "outputs": [],
   "source": [
    "class ConvBlock(nn.Module):\n",
    "    def __init__(self,\n",
    "                 in_channels: int,\n",
    "                 out_channels: int,\n",
    "                 kernel_size: int,\n",
    "                 padding: int,\n",
    "                 batch_norm: bool = False) -> None:\n",
    "        super(ConvBlock, self).__init__()\n",
    "        self.conv = nn.Conv2d(in_channels, out_channels, kernel_size, 1, padding)\n",
    "        self.norm = nn.BatchNorm2d(out_channels) if batch_norm else nn.Identity()\n",
    "        self.relu = nn.LeakyReLU(0.05, inplace=True)\n",
    "\n",
    "    def forward(self,\n",
    "                x: torch.Tensor) -> torch.Tensor:\n",
    "        return self.relu(self.norm(self.conv(x)))"
   ]
  },
  {
   "cell_type": "markdown",
   "metadata": {},
   "source": [
    "## Discriminator"
   ]
  },
  {
   "cell_type": "code",
   "execution_count": 3,
   "metadata": {},
   "outputs": [],
   "source": [
    "class Discriminator(nn.Module):\n",
    "    def __init__(self,\n",
    "                 in_channels: int,\n",
    "                 out_channels: int,\n",
    "                 kernel_size: int,\n",
    "                 padding: int,\n",
    "                 num_layer: int) -> None:\n",
    "        super(Discriminator, self).__init__()\n",
    "        self.head = ConvBlock(in_channels, out_channels, kernel_size, padding)\n",
    "        self.body = nn.Sequential(\n",
    "            *[ConvBlock(out_channels, out_channels, kernel_size, padding)\n",
    "            for _ in range(num_layer)]\n",
    "        )\n",
    "        self.tail = nn.Conv2d(out_channels, 1, kernel_size, padding)\n",
    "\n",
    "    def forward(self,\n",
    "                x: torch.Tensor) -> torch.Tensor:\n",
    "        x = self.head(x)\n",
    "        x = self.body(x)\n",
    "        return self.tail(x)"
   ]
  },
  {
   "cell_type": "markdown",
   "metadata": {},
   "source": [
    "## Generator"
   ]
  },
  {
   "cell_type": "code",
   "execution_count": 4,
   "metadata": {},
   "outputs": [],
   "source": [
    "class Generator(nn.Module):\n",
    "    def __init__(self,\n",
    "                 in_channels: int,\n",
    "                 out_channels: int,\n",
    "                 kernel_size: int,\n",
    "                 padding: int,\n",
    "                 num_layers: int,\n",
    "                 batch_norm: bool = False) -> None:\n",
    "        super(Generator, self).__init__()\n",
    "        self.head = ConvBlock(in_channels, out_channels, kernel_size, padding, batch_norm)\n",
    "        self.body = nn.ModuleList()\n",
    "        self.body.append(nn.Sequential(\n",
    "            *[ConvBlock(out_channels, out_channels, kernel_size, padding, batch_norm)\n",
    "            for _ in range(num_layers)]\n",
    "        ))\n",
    "        self.tail = nn.Sequential(\n",
    "            nn.Conv2d(out_channels, in_channels, kernel_size, padding=padding),\n",
    "            nn.Tanh()\n",
    "        )\n",
    "    \n",
    "    def init_next_stage(self):\n",
    "        self.body.append(copy.deepcopy(self.body[-1]))\n",
    "    \n",
    "    def forward(self,\n",
    "                noise: List[torch.Tensor],\n",
    "                real_shapes: List[torch.Size],\n",
    "                noise_amp: List[float]) -> torch.Tensor:\n",
    "        x = self.head(noise[0])\n",
    "        x = self.body[0](x)\n",
    "        for i in range(1, len(self.body)):\n",
    "            x = F.interpolate(x, size=real_shapes[i], mode='bilinear', align_corners=True)\n",
    "            x = x + self.body[i](x + noise[i] * noise_amp[i])\n",
    "        return self.tail(x)"
   ]
  },
  {
   "cell_type": "markdown",
   "metadata": {},
   "source": [
    "## Read & Write Image"
   ]
  },
  {
   "cell_type": "code",
   "execution_count": 5,
   "metadata": {},
   "outputs": [],
   "source": [
    "def read_image(path: str) -> torch.Tensor:\n",
    "    image = plt.imread(path)\n",
    "    image = torch.from_numpy(image.copy()).float() / 255.0\n",
    "    image = image.permute(2, 0, 1)\n",
    "    return (image - 0.5) * 2\n",
    "\n",
    "def write_image(path: str,\n",
    "                image: torch.Tensor) -> None:\n",
    "    image = (image + 1) / 2\n",
    "    plt.imsave(path, image.permute(1, 2, 0).cpu().numpy(), vmin=0, vmax=1)"
   ]
  },
  {
   "cell_type": "code",
   "execution_count": 6,
   "metadata": {},
   "outputs": [],
   "source": [
    "device = 'cuda' if torch.cuda.is_available() else 'cpu'\n",
    "path = '../data/angkorwat.jpg'\n",
    "image = read_image(path).to(device)\n",
    "max_size, min_size = 250, 25\n",
    "stages = 8 # stop_scale = stages - 1 = 7"
   ]
  },
  {
   "cell_type": "code",
   "execution_count": 7,
   "metadata": {},
   "outputs": [
    {
     "data": {
      "text/plain": [
       "(torch.Size([1, 3, 166, 250]), 0.763040197031911)"
      ]
     },
     "execution_count": 7,
     "metadata": {},
     "output_type": "execute_result"
    }
   ],
   "source": [
    "def adjust_scales2image(image: torch.Tensor,\n",
    "                        stop_scale: int = 7) -> Tuple[torch.Tensor, float]:\n",
    "    # resize the long side of the image to max_size\n",
    "    scale = min(max_size / max([image.shape[2], image.shape[3]]), 1)\n",
    "    real = F.interpolate(image, scale_factor=scale, mode='bilinear', align_corners=True)\n",
    "    # calculate the scaling factor for resizing the short side to min_size\n",
    "    scale_factor = math.pow(min_size / (min(real.shape[2], real.shape[3])), 1 / stop_scale)\n",
    "    return real, scale_factor\n",
    "real, scale_factor = adjust_scales2image(image.unsqueeze(0), stages - 1)\n",
    "real.shape, scale_factor"
   ]
  },
  {
   "cell_type": "code",
   "execution_count": 8,
   "metadata": {},
   "outputs": [
    {
     "name": "stdout",
     "output_type": "stream",
     "text": [
      "torch.Size([1, 3, 25, 37])\n",
      "torch.Size([1, 3, 28, 42])\n",
      "torch.Size([1, 3, 33, 49])\n",
      "torch.Size([1, 3, 39, 60])\n",
      "torch.Size([1, 3, 50, 76])\n",
      "torch.Size([1, 3, 71, 107])\n",
      "torch.Size([1, 3, 126, 190])\n",
      "torch.Size([1, 3, 166, 250])\n"
     ]
    }
   ],
   "source": [
    "def create_reals_pyramid(real, scale_factor: float, stop_scale: int = 7):\n",
    "    reals = []\n",
    "    for i in range(stop_scale):\n",
    "        scale = math.pow(scale_factor,((stop_scale-1)/math.log(stop_scale))*math.log(stop_scale-i)+1)\n",
    "        curr_real = F.interpolate(real, scale_factor=scale, mode='bilinear', align_corners=True)\n",
    "        reals.append(curr_real)\n",
    "    reals.append(real)\n",
    "    return reals\n",
    "\n",
    "reals = create_reals_pyramid(real, scale_factor, stages - 1)\n",
    "for r in reals:\n",
    "    print(r.shape)"
   ]
  },
  {
   "cell_type": "code",
   "execution_count": 9,
   "metadata": {},
   "outputs": [],
   "source": [
    "def calc_gradient_penalty(discriminator: Discriminator,\n",
    "                          real_data: torch.Tensor,\n",
    "                          fake_data: torch.Tensor,\n",
    "                          lamb: float = 0.1,\n",
    "                          device: str = 'cpu') -> torch.Tensor:\n",
    "    alpha = torch.rand(1).item()\n",
    "    interpolates = alpha * real_data + (1 - alpha) * fake_data\n",
    "    interpolates.requires_grad_(True)\n",
    "    disc_interpolates = discriminator(interpolates)\n",
    "    gradients = torch.autograd.grad(outputs=disc_interpolates, inputs=interpolates,\n",
    "                                    grad_outputs=torch.ones_like(disc_interpolates, device=device),\n",
    "                                    create_graph=True, retain_graph=True, only_inputs=True)[0]\n",
    "    gradient_penalty = ((gradients.norm(2, dim=1) - 1) ** 2).mean() * lamb\n",
    "    return gradient_penalty"
   ]
  },
  {
   "cell_type": "markdown",
   "metadata": {},
   "source": [
    "## Train"
   ]
  },
  {
   "cell_type": "code",
   "execution_count": 17,
   "metadata": {},
   "outputs": [],
   "source": [
    "n_features = 64\n",
    "generator = Generator(3, n_features, 3, 1, 3, False).to(device)\n",
    "discriminator = Discriminator(3, n_features, 3, 1, 3).to(device)\n",
    "fixed_noise = []\n",
    "noise_amp = []\n",
    "\n",
    "d_iter = g_iter = 3\n",
    "max_epochs = 2000\n",
    "lr = 0.0005\n",
    "lr_scale = 0.1\n",
    "beta1 = 0.5\n",
    "gamma = 0.1\n",
    "lamb = 0.1\n",
    "alpha = 10\n",
    "reals_shapes = [real.shape[2:] for real in reals]\n",
    "train_depth = 3"
   ]
  },
  {
   "cell_type": "code",
   "execution_count": 15,
   "metadata": {},
   "outputs": [],
   "source": [
    "output_dir = 'output'\n",
    "if not os.path.exists(output_dir):\n",
    "    os.mkdir(output_dir)\n",
    "for i in range(stages):\n",
    "    p = os.path.join(output_dir, f'stage_{i:02d}')\n",
    "    if not os.path.exists(p):\n",
    "        os.mkdir(p)"
   ]
  },
  {
   "cell_type": "code",
   "execution_count": null,
   "metadata": {},
   "outputs": [
    {
     "name": "stdout",
     "output_type": "stream",
     "text": [
      "Stage 1: \n"
     ]
    },
    {
     "name": "stderr",
     "output_type": "stream",
     "text": [
      " 13%|█▎        | 256/2000 [00:08<00:54, 31.99it/s]"
     ]
    },
    {
     "name": "stdout",
     "output_type": "stream",
     "text": [
      "Epoch:  250, D_real Loss: 2.44567, D_fake Loss: 0.46688, D_gradient_penalty: 0.85142, G_fake Loss: -0.56948, G_rec Loss: 0.08614\n"
     ]
    },
    {
     "name": "stderr",
     "output_type": "stream",
     "text": [
      " 25%|██▌       | 504/2000 [00:16<00:48, 30.97it/s]"
     ]
    },
    {
     "name": "stdout",
     "output_type": "stream",
     "text": [
      "Epoch:  500, D_real Loss: 2.75209, D_fake Loss: 0.02575, D_gradient_penalty: 1.26078, G_fake Loss: 0.00961, G_rec Loss: 0.06195\n"
     ]
    },
    {
     "name": "stderr",
     "output_type": "stream",
     "text": [
      " 38%|███▊      | 754/2000 [00:24<00:41, 29.90it/s]"
     ]
    },
    {
     "name": "stdout",
     "output_type": "stream",
     "text": [
      "Epoch:  750, D_real Loss: 2.86804, D_fake Loss: 0.61244, D_gradient_penalty: 0.73418, G_fake Loss: -0.81290, G_rec Loss: 0.08331\n"
     ]
    },
    {
     "name": "stderr",
     "output_type": "stream",
     "text": [
      " 50%|█████     | 1004/2000 [00:33<00:35, 28.42it/s]"
     ]
    },
    {
     "name": "stdout",
     "output_type": "stream",
     "text": [
      "Epoch:  1000, D_real Loss: 1.59142, D_fake Loss: -1.31235, D_gradient_penalty: 1.58353, G_fake Loss: 1.79641, G_rec Loss: 0.03709\n"
     ]
    },
    {
     "name": "stderr",
     "output_type": "stream",
     "text": [
      " 63%|██████▎   | 1253/2000 [00:42<00:26, 27.70it/s]"
     ]
    },
    {
     "name": "stdout",
     "output_type": "stream",
     "text": [
      "Epoch:  1250, D_real Loss: 4.15951, D_fake Loss: 0.32691, D_gradient_penalty: 1.64002, G_fake Loss: -0.45096, G_rec Loss: 0.01530\n"
     ]
    },
    {
     "name": "stderr",
     "output_type": "stream",
     "text": [
      " 75%|███████▌  | 1504/2000 [00:51<00:18, 27.50it/s]"
     ]
    },
    {
     "name": "stdout",
     "output_type": "stream",
     "text": [
      "Epoch:  1500, D_real Loss: 2.81833, D_fake Loss: -1.24190, D_gradient_penalty: 1.38232, G_fake Loss: 0.77452, G_rec Loss: 0.02890\n"
     ]
    },
    {
     "name": "stderr",
     "output_type": "stream",
     "text": [
      " 88%|████████▊ | 1754/2000 [01:00<00:08, 28.09it/s]"
     ]
    },
    {
     "name": "stdout",
     "output_type": "stream",
     "text": [
      "Epoch:  1750, D_real Loss: 1.90450, D_fake Loss: -1.06204, D_gradient_penalty: 1.59214, G_fake Loss: 1.10019, G_rec Loss: 0.00815\n"
     ]
    },
    {
     "name": "stderr",
     "output_type": "stream",
     "text": [
      "100%|██████████| 2000/2000 [01:09<00:00, 28.71it/s]\n"
     ]
    },
    {
     "name": "stdout",
     "output_type": "stream",
     "text": [
      "Epoch:  2000, D_real Loss: 2.19303, D_fake Loss: -0.71114, D_gradient_penalty: 1.23367, G_fake Loss: 0.77997, G_rec Loss: 0.00664\n",
      "Stage 2: \n"
     ]
    },
    {
     "name": "stderr",
     "output_type": "stream",
     "text": [
      " 13%|█▎        | 254/2000 [00:10<01:13, 23.77it/s]"
     ]
    },
    {
     "name": "stdout",
     "output_type": "stream",
     "text": [
      "Epoch:  250, D_real Loss: -0.05511, D_fake Loss: -1.23056, D_gradient_penalty: 0.29881, G_fake Loss: 1.04575, G_rec Loss: 0.01736\n"
     ]
    },
    {
     "name": "stderr",
     "output_type": "stream",
     "text": [
      " 25%|██▌       | 503/2000 [00:20<01:02, 24.02it/s]"
     ]
    },
    {
     "name": "stdout",
     "output_type": "stream",
     "text": [
      "Epoch:  500, D_real Loss: 1.14827, D_fake Loss: -0.62732, D_gradient_penalty: 1.37147, G_fake Loss: 1.22368, G_rec Loss: 0.01113\n"
     ]
    },
    {
     "name": "stderr",
     "output_type": "stream",
     "text": [
      " 38%|███▊      | 755/2000 [00:31<00:51, 24.20it/s]"
     ]
    },
    {
     "name": "stdout",
     "output_type": "stream",
     "text": [
      "Epoch:  750, D_real Loss: 0.32888, D_fake Loss: -1.20341, D_gradient_penalty: 0.33360, G_fake Loss: 1.17005, G_rec Loss: 0.00818\n"
     ]
    },
    {
     "name": "stderr",
     "output_type": "stream",
     "text": [
      " 50%|█████     | 1004/2000 [00:41<00:40, 24.42it/s]"
     ]
    },
    {
     "name": "stdout",
     "output_type": "stream",
     "text": [
      "Epoch:  1000, D_real Loss: 0.10090, D_fake Loss: -1.41096, D_gradient_penalty: 0.67366, G_fake Loss: 1.43826, G_rec Loss: 0.00678\n"
     ]
    },
    {
     "name": "stderr",
     "output_type": "stream",
     "text": [
      " 63%|██████▎   | 1253/2000 [00:51<00:29, 24.93it/s]"
     ]
    },
    {
     "name": "stdout",
     "output_type": "stream",
     "text": [
      "Epoch:  1250, D_real Loss: -0.34205, D_fake Loss: -1.66898, D_gradient_penalty: 0.54977, G_fake Loss: 1.95535, G_rec Loss: 0.00788\n"
     ]
    },
    {
     "name": "stderr",
     "output_type": "stream",
     "text": [
      " 75%|███████▌  | 1505/2000 [01:02<00:20, 24.58it/s]"
     ]
    },
    {
     "name": "stdout",
     "output_type": "stream",
     "text": [
      "Epoch:  1500, D_real Loss: -0.05581, D_fake Loss: -1.48170, D_gradient_penalty: 0.32130, G_fake Loss: 1.46038, G_rec Loss: 0.00684\n"
     ]
    },
    {
     "name": "stderr",
     "output_type": "stream",
     "text": [
      " 88%|████████▊ | 1754/2000 [01:12<00:10, 24.30it/s]"
     ]
    },
    {
     "name": "stdout",
     "output_type": "stream",
     "text": [
      "Epoch:  1750, D_real Loss: -0.30878, D_fake Loss: -1.64869, D_gradient_penalty: 0.33847, G_fake Loss: 1.62825, G_rec Loss: 0.00159\n"
     ]
    },
    {
     "name": "stderr",
     "output_type": "stream",
     "text": [
      "100%|██████████| 2000/2000 [01:22<00:00, 24.10it/s]\n"
     ]
    },
    {
     "name": "stdout",
     "output_type": "stream",
     "text": [
      "Epoch:  2000, D_real Loss: -0.23347, D_fake Loss: -1.58599, D_gradient_penalty: 0.90047, G_fake Loss: 1.62404, G_rec Loss: 0.00154\n",
      "Stage 3: \n"
     ]
    },
    {
     "name": "stderr",
     "output_type": "stream",
     "text": [
      " 13%|█▎        | 252/2000 [00:11<01:24, 20.66it/s]"
     ]
    },
    {
     "name": "stdout",
     "output_type": "stream",
     "text": [
      "Epoch:  250, D_real Loss: -1.40649, D_fake Loss: -2.15758, D_gradient_penalty: 0.37187, G_fake Loss: 2.46801, G_rec Loss: 0.01127\n"
     ]
    },
    {
     "name": "stderr",
     "output_type": "stream",
     "text": [
      " 25%|██▌       | 503/2000 [00:23<01:09, 21.68it/s]"
     ]
    },
    {
     "name": "stdout",
     "output_type": "stream",
     "text": [
      "Epoch:  500, D_real Loss: -1.05309, D_fake Loss: -2.01897, D_gradient_penalty: 0.27398, G_fake Loss: 2.45107, G_rec Loss: 0.01339\n"
     ]
    },
    {
     "name": "stderr",
     "output_type": "stream",
     "text": [
      " 38%|███▊      | 752/2000 [00:35<00:58, 21.24it/s]"
     ]
    },
    {
     "name": "stdout",
     "output_type": "stream",
     "text": [
      "Epoch:  750, D_real Loss: -0.59272, D_fake Loss: -1.47411, D_gradient_penalty: 0.26643, G_fake Loss: 1.60294, G_rec Loss: 0.01314\n"
     ]
    },
    {
     "name": "stderr",
     "output_type": "stream",
     "text": [
      " 50%|█████     | 1004/2000 [00:46<00:44, 22.36it/s]"
     ]
    },
    {
     "name": "stdout",
     "output_type": "stream",
     "text": [
      "Epoch:  1000, D_real Loss: -1.21572, D_fake Loss: -2.07044, D_gradient_penalty: 0.22169, G_fake Loss: 1.80216, G_rec Loss: 0.00593\n"
     ]
    },
    {
     "name": "stderr",
     "output_type": "stream",
     "text": [
      " 63%|██████▎   | 1254/2000 [00:58<00:36, 20.62it/s]"
     ]
    },
    {
     "name": "stdout",
     "output_type": "stream",
     "text": [
      "Epoch:  1250, D_real Loss: -1.08078, D_fake Loss: -1.89109, D_gradient_penalty: 0.35677, G_fake Loss: 2.01704, G_rec Loss: 0.01242\n"
     ]
    },
    {
     "name": "stderr",
     "output_type": "stream",
     "text": [
      " 75%|███████▌  | 1504/2000 [01:10<00:22, 22.40it/s]"
     ]
    },
    {
     "name": "stdout",
     "output_type": "stream",
     "text": [
      "Epoch:  1500, D_real Loss: -0.79370, D_fake Loss: -1.56003, D_gradient_penalty: 0.11377, G_fake Loss: 1.42615, G_rec Loss: 0.00616\n"
     ]
    },
    {
     "name": "stderr",
     "output_type": "stream",
     "text": [
      " 88%|████████▊ | 1754/2000 [01:21<00:10, 22.47it/s]"
     ]
    },
    {
     "name": "stdout",
     "output_type": "stream",
     "text": [
      "Epoch:  1750, D_real Loss: -1.44992, D_fake Loss: -2.28231, D_gradient_penalty: 0.38001, G_fake Loss: 2.30963, G_rec Loss: 0.00174\n"
     ]
    },
    {
     "name": "stderr",
     "output_type": "stream",
     "text": [
      "100%|██████████| 2000/2000 [01:33<00:00, 21.42it/s]\n"
     ]
    },
    {
     "name": "stdout",
     "output_type": "stream",
     "text": [
      "Epoch:  2000, D_real Loss: -1.34912, D_fake Loss: -2.05222, D_gradient_penalty: 0.33126, G_fake Loss: 2.07791, G_rec Loss: 0.00144\n",
      "Stage 4: \n"
     ]
    },
    {
     "name": "stderr",
     "output_type": "stream",
     "text": [
      " 13%|█▎        | 253/2000 [00:12<01:22, 21.13it/s]"
     ]
    },
    {
     "name": "stdout",
     "output_type": "stream",
     "text": [
      "Epoch:  250, D_real Loss: -1.48609, D_fake Loss: -1.91113, D_gradient_penalty: 0.09517, G_fake Loss: 1.74799, G_rec Loss: 0.01569\n"
     ]
    },
    {
     "name": "stderr",
     "output_type": "stream",
     "text": [
      " 25%|██▌       | 502/2000 [00:26<01:38, 15.17it/s]"
     ]
    },
    {
     "name": "stdout",
     "output_type": "stream",
     "text": [
      "Epoch:  500, D_real Loss: -0.95946, D_fake Loss: -1.46425, D_gradient_penalty: 0.13991, G_fake Loss: 1.56166, G_rec Loss: 0.00976\n"
     ]
    },
    {
     "name": "stderr",
     "output_type": "stream",
     "text": [
      " 38%|███▊      | 752/2000 [00:40<01:12, 17.24it/s]"
     ]
    },
    {
     "name": "stdout",
     "output_type": "stream",
     "text": [
      "Epoch:  750, D_real Loss: -1.20979, D_fake Loss: -1.68394, D_gradient_penalty: 0.11328, G_fake Loss: 2.00337, G_rec Loss: 0.00940\n"
     ]
    },
    {
     "name": "stderr",
     "output_type": "stream",
     "text": [
      " 50%|█████     | 1003/2000 [00:56<00:58, 17.09it/s]"
     ]
    },
    {
     "name": "stdout",
     "output_type": "stream",
     "text": [
      "Epoch:  1000, D_real Loss: -1.09386, D_fake Loss: -1.61909, D_gradient_penalty: 0.28515, G_fake Loss: 2.02674, G_rec Loss: 0.01358\n"
     ]
    },
    {
     "name": "stderr",
     "output_type": "stream",
     "text": [
      " 63%|██████▎   | 1251/2000 [01:10<00:38, 19.40it/s]"
     ]
    },
    {
     "name": "stdout",
     "output_type": "stream",
     "text": [
      "Epoch:  1250, D_real Loss: -0.94832, D_fake Loss: -1.44289, D_gradient_penalty: 0.24103, G_fake Loss: 1.45445, G_rec Loss: 0.00560\n"
     ]
    },
    {
     "name": "stderr",
     "output_type": "stream",
     "text": [
      " 75%|███████▌  | 1503/2000 [01:24<00:25, 19.70it/s]"
     ]
    },
    {
     "name": "stdout",
     "output_type": "stream",
     "text": [
      "Epoch:  1500, D_real Loss: -1.09367, D_fake Loss: -1.57583, D_gradient_penalty: 0.23874, G_fake Loss: 1.67756, G_rec Loss: 0.00552\n"
     ]
    },
    {
     "name": "stderr",
     "output_type": "stream",
     "text": [
      " 88%|████████▊ | 1754/2000 [01:39<00:12, 19.42it/s]"
     ]
    },
    {
     "name": "stdout",
     "output_type": "stream",
     "text": [
      "Epoch:  1750, D_real Loss: -1.25229, D_fake Loss: -1.78719, D_gradient_penalty: 0.14328, G_fake Loss: 1.82131, G_rec Loss: 0.00165\n"
     ]
    },
    {
     "name": "stderr",
     "output_type": "stream",
     "text": [
      "100%|██████████| 2000/2000 [01:53<00:00, 17.62it/s]\n"
     ]
    },
    {
     "name": "stdout",
     "output_type": "stream",
     "text": [
      "Epoch:  2000, D_real Loss: -1.22323, D_fake Loss: -1.80057, D_gradient_penalty: 0.15170, G_fake Loss: 1.80609, G_rec Loss: 0.00152\n",
      "Stage 5: \n"
     ]
    },
    {
     "name": "stderr",
     "output_type": "stream",
     "text": [
      " 13%|█▎        | 252/2000 [00:23<02:50, 10.27it/s]"
     ]
    },
    {
     "name": "stdout",
     "output_type": "stream",
     "text": [
      "Epoch:  250, D_real Loss: -0.67684, D_fake Loss: -1.03667, D_gradient_penalty: 0.18146, G_fake Loss: 1.41466, G_rec Loss: 0.01381\n"
     ]
    },
    {
     "name": "stderr",
     "output_type": "stream",
     "text": [
      " 25%|██▌       | 501/2000 [00:48<02:26, 10.23it/s]"
     ]
    },
    {
     "name": "stdout",
     "output_type": "stream",
     "text": [
      "Epoch:  500, D_real Loss: -0.79434, D_fake Loss: -1.10427, D_gradient_penalty: 0.11103, G_fake Loss: 1.12742, G_rec Loss: 0.01182\n"
     ]
    },
    {
     "name": "stderr",
     "output_type": "stream",
     "text": [
      " 38%|███▊      | 752/2000 [01:12<01:59, 10.48it/s]"
     ]
    },
    {
     "name": "stdout",
     "output_type": "stream",
     "text": [
      "Epoch:  750, D_real Loss: -1.14750, D_fake Loss: -1.44815, D_gradient_penalty: 0.11696, G_fake Loss: 1.57776, G_rec Loss: 0.01144\n"
     ]
    },
    {
     "name": "stderr",
     "output_type": "stream",
     "text": [
      " 50%|█████     | 1001/2000 [01:37<01:37, 10.21it/s]"
     ]
    },
    {
     "name": "stdout",
     "output_type": "stream",
     "text": [
      "Epoch:  1000, D_real Loss: -0.96119, D_fake Loss: -1.27049, D_gradient_penalty: 0.13658, G_fake Loss: 1.21695, G_rec Loss: 0.00916\n"
     ]
    },
    {
     "name": "stderr",
     "output_type": "stream",
     "text": [
      " 63%|██████▎   | 1251/2000 [02:01<01:13, 10.15it/s]"
     ]
    },
    {
     "name": "stdout",
     "output_type": "stream",
     "text": [
      "Epoch:  1250, D_real Loss: -1.09957, D_fake Loss: -1.41732, D_gradient_penalty: 0.15502, G_fake Loss: 1.53140, G_rec Loss: 0.00879\n"
     ]
    },
    {
     "name": "stderr",
     "output_type": "stream",
     "text": [
      " 75%|███████▌  | 1501/2000 [02:26<00:48, 10.31it/s]"
     ]
    },
    {
     "name": "stdout",
     "output_type": "stream",
     "text": [
      "Epoch:  1500, D_real Loss: -1.43687, D_fake Loss: -1.78272, D_gradient_penalty: 0.21507, G_fake Loss: 1.93118, G_rec Loss: 0.00662\n"
     ]
    },
    {
     "name": "stderr",
     "output_type": "stream",
     "text": [
      " 88%|████████▊ | 1751/2000 [02:50<00:24, 10.25it/s]"
     ]
    },
    {
     "name": "stdout",
     "output_type": "stream",
     "text": [
      "Epoch:  1750, D_real Loss: -1.27595, D_fake Loss: -1.57334, D_gradient_penalty: 0.09225, G_fake Loss: 1.56579, G_rec Loss: 0.00219\n"
     ]
    },
    {
     "name": "stderr",
     "output_type": "stream",
     "text": [
      "100%|██████████| 2000/2000 [03:14<00:00, 10.27it/s]\n"
     ]
    },
    {
     "name": "stdout",
     "output_type": "stream",
     "text": [
      "Epoch:  2000, D_real Loss: -1.42027, D_fake Loss: -1.75672, D_gradient_penalty: 0.17511, G_fake Loss: 1.75872, G_rec Loss: 0.00214\n",
      "Stage 6: \n"
     ]
    },
    {
     "name": "stderr",
     "output_type": "stream",
     "text": [
      " 13%|█▎        | 252/2000 [00:27<03:03,  9.51it/s]"
     ]
    },
    {
     "name": "stdout",
     "output_type": "stream",
     "text": [
      "Epoch:  250, D_real Loss: -0.65974, D_fake Loss: -0.82493, D_gradient_penalty: 0.03876, G_fake Loss: 0.92181, G_rec Loss: 0.02755\n"
     ]
    },
    {
     "name": "stderr",
     "output_type": "stream",
     "text": [
      " 25%|██▌       | 502/2000 [00:55<02:38,  9.48it/s]"
     ]
    },
    {
     "name": "stdout",
     "output_type": "stream",
     "text": [
      "Epoch:  500, D_real Loss: -0.75458, D_fake Loss: -0.99343, D_gradient_penalty: 0.08772, G_fake Loss: 1.05342, G_rec Loss: 0.01333\n"
     ]
    },
    {
     "name": "stderr",
     "output_type": "stream",
     "text": [
      " 38%|███▊      | 750/2000 [01:27<03:56,  5.28it/s]"
     ]
    },
    {
     "name": "stdout",
     "output_type": "stream",
     "text": [
      "Epoch:  750, D_real Loss: -0.94803, D_fake Loss: -1.15053, D_gradient_penalty: 0.05750, G_fake Loss: 1.01569, G_rec Loss: 0.01493\n"
     ]
    },
    {
     "name": "stderr",
     "output_type": "stream",
     "text": [
      " 50%|█████     | 1000/2000 [02:07<03:09,  5.27it/s]"
     ]
    },
    {
     "name": "stdout",
     "output_type": "stream",
     "text": [
      "Epoch:  1000, D_real Loss: -0.76108, D_fake Loss: -0.94716, D_gradient_penalty: 0.05530, G_fake Loss: 0.93049, G_rec Loss: 0.01088\n"
     ]
    },
    {
     "name": "stderr",
     "output_type": "stream",
     "text": [
      " 62%|██████▎   | 1250/2000 [02:47<02:20,  5.33it/s]"
     ]
    },
    {
     "name": "stdout",
     "output_type": "stream",
     "text": [
      "Epoch:  1250, D_real Loss: -1.05848, D_fake Loss: -1.26707, D_gradient_penalty: 0.06313, G_fake Loss: 1.15767, G_rec Loss: 0.00743\n"
     ]
    },
    {
     "name": "stderr",
     "output_type": "stream",
     "text": [
      " 75%|███████▌  | 1500/2000 [03:27<01:35,  5.26it/s]"
     ]
    },
    {
     "name": "stdout",
     "output_type": "stream",
     "text": [
      "Epoch:  1500, D_real Loss: -0.73408, D_fake Loss: -0.94272, D_gradient_penalty: 0.06070, G_fake Loss: 0.99504, G_rec Loss: 0.00824\n"
     ]
    },
    {
     "name": "stderr",
     "output_type": "stream",
     "text": [
      " 88%|████████▊ | 1750/2000 [04:07<00:47,  5.31it/s]"
     ]
    },
    {
     "name": "stdout",
     "output_type": "stream",
     "text": [
      "Epoch:  1750, D_real Loss: -1.09379, D_fake Loss: -1.28863, D_gradient_penalty: 0.10569, G_fake Loss: 1.30025, G_rec Loss: 0.00289\n"
     ]
    },
    {
     "name": "stderr",
     "output_type": "stream",
     "text": [
      "100%|██████████| 2000/2000 [04:47<00:00,  6.96it/s]\n"
     ]
    },
    {
     "name": "stdout",
     "output_type": "stream",
     "text": [
      "Epoch:  2000, D_real Loss: -1.12294, D_fake Loss: -1.32191, D_gradient_penalty: 0.06054, G_fake Loss: 1.33551, G_rec Loss: 0.00278\n",
      "Stage 7: \n"
     ]
    },
    {
     "name": "stderr",
     "output_type": "stream",
     "text": [
      " 12%|█▎        | 250/2000 [02:15<17:35,  1.66it/s]"
     ]
    },
    {
     "name": "stdout",
     "output_type": "stream",
     "text": [
      "Epoch:  250, D_real Loss: -0.54732, D_fake Loss: -0.61189, D_gradient_penalty: 0.02131, G_fake Loss: 0.58320, G_rec Loss: 0.02213\n"
     ]
    },
    {
     "name": "stderr",
     "output_type": "stream",
     "text": [
      " 25%|██▌       | 500/2000 [04:31<15:08,  1.65it/s]"
     ]
    },
    {
     "name": "stdout",
     "output_type": "stream",
     "text": [
      "Epoch:  500, D_real Loss: -0.44545, D_fake Loss: -0.54005, D_gradient_penalty: 0.02609, G_fake Loss: 0.59339, G_rec Loss: 0.01569\n"
     ]
    },
    {
     "name": "stderr",
     "output_type": "stream",
     "text": [
      " 38%|███▊      | 750/2000 [06:27<08:44,  2.38it/s]"
     ]
    },
    {
     "name": "stdout",
     "output_type": "stream",
     "text": [
      "Epoch:  750, D_real Loss: -0.61420, D_fake Loss: -0.71358, D_gradient_penalty: 0.03070, G_fake Loss: 0.54102, G_rec Loss: 0.01379\n"
     ]
    },
    {
     "name": "stderr",
     "output_type": "stream",
     "text": [
      " 50%|█████     | 1000/2000 [08:12<07:01,  2.37it/s]"
     ]
    },
    {
     "name": "stdout",
     "output_type": "stream",
     "text": [
      "Epoch:  1000, D_real Loss: -0.64543, D_fake Loss: -0.75620, D_gradient_penalty: 0.03348, G_fake Loss: 0.67703, G_rec Loss: 0.01654\n"
     ]
    },
    {
     "name": "stderr",
     "output_type": "stream",
     "text": [
      " 62%|██████▎   | 1250/2000 [09:47<05:17,  2.36it/s]"
     ]
    },
    {
     "name": "stdout",
     "output_type": "stream",
     "text": [
      "Epoch:  1250, D_real Loss: -0.29921, D_fake Loss: -0.39663, D_gradient_penalty: 0.02792, G_fake Loss: 0.37323, G_rec Loss: 0.01067\n"
     ]
    },
    {
     "name": "stderr",
     "output_type": "stream",
     "text": [
      " 75%|███████▌  | 1500/2000 [11:49<05:03,  1.65it/s]"
     ]
    },
    {
     "name": "stdout",
     "output_type": "stream",
     "text": [
      "Epoch:  1500, D_real Loss: -0.54265, D_fake Loss: -0.66608, D_gradient_penalty: 0.03810, G_fake Loss: 0.87646, G_rec Loss: 0.01243\n"
     ]
    },
    {
     "name": "stderr",
     "output_type": "stream",
     "text": [
      " 88%|████████▊ | 1750/2000 [13:53<01:44,  2.38it/s]"
     ]
    },
    {
     "name": "stdout",
     "output_type": "stream",
     "text": [
      "Epoch:  1750, D_real Loss: -0.51955, D_fake Loss: -0.63011, D_gradient_penalty: 0.05240, G_fake Loss: 0.64116, G_rec Loss: 0.00547\n"
     ]
    },
    {
     "name": "stderr",
     "output_type": "stream",
     "text": [
      "100%|██████████| 2000/2000 [15:40<00:00,  2.13it/s]\n"
     ]
    },
    {
     "name": "stdout",
     "output_type": "stream",
     "text": [
      "Epoch:  2000, D_real Loss: -0.50154, D_fake Loss: -0.62625, D_gradient_penalty: 0.03503, G_fake Loss: 0.60726, G_rec Loss: 0.00537\n",
      "Stage 8: \n"
     ]
    },
    {
     "name": "stderr",
     "output_type": "stream",
     "text": [
      " 12%|█▎        | 250/2000 [02:31<21:01,  1.39it/s]"
     ]
    },
    {
     "name": "stdout",
     "output_type": "stream",
     "text": [
      "Epoch:  250, D_real Loss: -0.47773, D_fake Loss: -0.54092, D_gradient_penalty: 0.02207, G_fake Loss: 0.50163, G_rec Loss: 0.03117\n"
     ]
    },
    {
     "name": "stderr",
     "output_type": "stream",
     "text": [
      " 25%|██▌       | 500/2000 [05:12<18:28,  1.35it/s]"
     ]
    },
    {
     "name": "stdout",
     "output_type": "stream",
     "text": [
      "Epoch:  500, D_real Loss: -0.55819, D_fake Loss: -0.66361, D_gradient_penalty: 0.03191, G_fake Loss: 0.65489, G_rec Loss: 0.01896\n"
     ]
    },
    {
     "name": "stderr",
     "output_type": "stream",
     "text": [
      " 38%|███▊      | 750/2000 [07:54<15:04,  1.38it/s]"
     ]
    },
    {
     "name": "stdout",
     "output_type": "stream",
     "text": [
      "Epoch:  750, D_real Loss: -0.57348, D_fake Loss: -0.68891, D_gradient_penalty: 0.03146, G_fake Loss: 0.62952, G_rec Loss: 0.01778\n"
     ]
    },
    {
     "name": "stderr",
     "output_type": "stream",
     "text": [
      " 50%|█████     | 1000/2000 [10:06<08:19,  2.00it/s]"
     ]
    },
    {
     "name": "stdout",
     "output_type": "stream",
     "text": [
      "Epoch:  1000, D_real Loss: -0.47685, D_fake Loss: -0.59481, D_gradient_penalty: 0.03636, G_fake Loss: 0.54993, G_rec Loss: 0.01750\n"
     ]
    },
    {
     "name": "stderr",
     "output_type": "stream",
     "text": [
      " 62%|██████▎   | 1250/2000 [12:04<06:16,  1.99it/s]"
     ]
    },
    {
     "name": "stdout",
     "output_type": "stream",
     "text": [
      "Epoch:  1250, D_real Loss: -0.45301, D_fake Loss: -0.58700, D_gradient_penalty: 0.03989, G_fake Loss: 0.64609, G_rec Loss: 0.01500\n"
     ]
    },
    {
     "name": "stderr",
     "output_type": "stream",
     "text": [
      " 75%|███████▌  | 1500/2000 [13:58<04:14,  1.96it/s]"
     ]
    },
    {
     "name": "stdout",
     "output_type": "stream",
     "text": [
      "Epoch:  1500, D_real Loss: -0.75755, D_fake Loss: -0.87975, D_gradient_penalty: 0.05053, G_fake Loss: 1.07052, G_rec Loss: 0.01689\n"
     ]
    },
    {
     "name": "stderr",
     "output_type": "stream",
     "text": [
      " 88%|████████▊ | 1750/2000 [15:52<02:06,  1.97it/s]"
     ]
    },
    {
     "name": "stdout",
     "output_type": "stream",
     "text": [
      "Epoch:  1750, D_real Loss: -0.80386, D_fake Loss: -0.93552, D_gradient_penalty: 0.03609, G_fake Loss: 0.93714, G_rec Loss: 0.00825\n"
     ]
    },
    {
     "name": "stderr",
     "output_type": "stream",
     "text": [
      "100%|██████████| 2000/2000 [17:47<00:00,  1.87it/s]"
     ]
    },
    {
     "name": "stdout",
     "output_type": "stream",
     "text": [
      "Epoch:  2000, D_real Loss: -0.91262, D_fake Loss: -1.03618, D_gradient_penalty: 0.03719, G_fake Loss: 1.04677, G_rec Loss: 0.00810\n"
     ]
    },
    {
     "name": "stderr",
     "output_type": "stream",
     "text": [
      "\n"
     ]
    }
   ],
   "source": [
    "for stage in range(stages):\n",
    "    print(f'Stage {stage + 1}: ')\n",
    "    if stage:\n",
    "        generator.init_next_stage()\n",
    "    \n",
    "    real = reals[stage]\n",
    "    z_opt = reals[0] if stage == 0 else torch.randn(1, n_features, *reals_shapes[stage], device=device)\n",
    "    fixed_noise.append(z_opt)\n",
    "    \n",
    "    optim_d = torch.optim.Adam(discriminator.parameters(), lr=lr, betas=(beta1, 0.999))\n",
    "\n",
    "    for block in generator.body[:-train_depth]:\n",
    "        for param in block.parameters():\n",
    "            param.requires_grad = False\n",
    "    \n",
    "    parameter_list = [{\"params\": block.parameters(), \"lr\": lr * (lr_scale ** (len(generator.body[-train_depth:]) - 1 - idx))}\n",
    "            for idx, block in enumerate(generator.body[-train_depth:])]\n",
    "\n",
    "    # add parameters of head and tail to training\n",
    "    if stage - train_depth < 0:\n",
    "        parameter_list += [{\"params\": generator.head.parameters(), \"lr\": lr * (lr_scale ** stage)}]\n",
    "    parameter_list += [{\"params\": generator.tail.parameters(), \"lr\": lr}]\n",
    "    optim_g = torch.optim.Adam(parameter_list, lr=lr, betas=(beta1, 0.999))\n",
    "\n",
    "    # define learning rate schedules\n",
    "    scheduler_d = torch.optim.lr_scheduler.MultiStepLR(optimizer=optim_d, milestones=[0.8 * max_epochs], gamma=gamma)\n",
    "    scheduler_g = torch.optim.lr_scheduler.MultiStepLR(optimizer=optim_g, milestones=[0.8 * max_epochs], gamma=gamma)\n",
    "\n",
    "    # calculate noise_amp\n",
    "    if stage == 0:\n",
    "        noise_amp.append(1)\n",
    "    else:\n",
    "        noise_amp.append(0)\n",
    "        with torch.no_grad():\n",
    "            z_reconstruction = generator(fixed_noise, reals_shapes, noise_amp)\n",
    "        rec_loss = F.mse_loss(z_reconstruction, real)\n",
    "        noise_amp[-1] = 0.1 * torch.sqrt(rec_loss)\n",
    "\n",
    "    for epoch in tqdm.tqdm(range(1, max_epochs + 1)):\n",
    "        noise = [torch.randn(*z.shape, device=device) for z in fixed_noise]\n",
    "\n",
    "        # update discriminator: minimize D(G(z)) - D(x)\n",
    "        for j in range(d_iter):\n",
    "            output = discriminator(real)\n",
    "            errD_real = -output.mean()\n",
    "            \n",
    "            if j == d_iter - 1:\n",
    "                fake = generator(noise, reals_shapes, noise_amp)\n",
    "            else:\n",
    "                with torch.no_grad():\n",
    "                    fake = generator(noise, reals_shapes, noise_amp)\n",
    "            \n",
    "            output = discriminator(fake.detach())\n",
    "            errD_fake = output.mean()\n",
    "            \n",
    "            gradient_penalty = calc_gradient_penalty(discriminator, real, fake.detach(), lamb, device)\n",
    "            errD_total = errD_real + errD_fake + gradient_penalty\n",
    "            optim_d.zero_grad()\n",
    "            errD_total.backward()\n",
    "            optim_d.step()\n",
    "        \n",
    "        # update generator: minimize -D(G(z))\n",
    "        output = discriminator(fake)\n",
    "        errG = -output.mean()\n",
    "        \n",
    "        rec = generator(fixed_noise, reals_shapes, noise_amp)\n",
    "        rec_loss = alpha * F.mse_loss(rec, real)\n",
    "        \n",
    "        errG_total = errG + rec_loss\n",
    "        optim_g.zero_grad()\n",
    "        errG_total.backward()\n",
    "        for _ in range(g_iter):\n",
    "            optim_g.step()\n",
    "        \n",
    "        scheduler_d.step()\n",
    "        scheduler_g.step()\n",
    "\n",
    "        if epoch % 250 == 0:\n",
    "            print(f'Epoch: {epoch: 04d}, D_real Loss: {errD_real.item():.5f}, D_fake Loss: {errD_fake.item():.5f}, '\n",
    "                  f'D_gradient_penalty: {gradient_penalty.item():.5f}, G_fake Loss: {errG.item():.5f}, G_rec Loss: {rec_loss.item():.5f}')\n",
    "        if epoch % 500 == 0:\n",
    "            write_image(f'{output_dir}/stage_{stage:02d}/fake_sample_{epoch:04d}.jpg', fake.detach().squeeze(0))\n",
    "            write_image(f'{output_dir}/stage_{stage:02d}/reconstruction_{epoch: 04d}.jpg', rec.detach().squeeze(0))"
   ]
  },
  {
   "cell_type": "code",
   "execution_count": 19,
   "metadata": {},
   "outputs": [],
   "source": [
    "torch.save(generator.state_dict(), f\"{output_dir}/generator.pth\")\n",
    "torch.save(discriminator.state_dict(), f\"{output_dir}/discriminator.pth\")"
   ]
  },
  {
   "cell_type": "code",
   "execution_count": null,
   "metadata": {},
   "outputs": [],
   "source": [
    "@torch.no_grad\n",
    "def generate_samples(path: str,\n",
    "                     n: int = 25) -> None:\n",
    "    if not os.path.exists(path):\n",
    "        os.mkdir(path)\n",
    "    for idx in range(n):\n",
    "        noise = [torch.randn(*z.shape, device=device) for z in fixed_noise]\n",
    "        sample = generator(noise, reals_shapes, noise_amp)\n",
    "        write_image(f'{path}/gen_sample_{idx + 1:02d}.jpg', sample.squeeze(0))"
   ]
  },
  {
   "cell_type": "code",
   "execution_count": 21,
   "metadata": {},
   "outputs": [],
   "source": [
    "generate_samples(f'{output_dir}/gen')"
   ]
  },
  {
   "cell_type": "code",
   "execution_count": null,
   "metadata": {},
   "outputs": [],
   "source": []
  }
 ],
 "metadata": {
  "kernelspec": {
   "display_name": "base",
   "language": "python",
   "name": "python3"
  },
  "language_info": {
   "codemirror_mode": {
    "name": "ipython",
    "version": 3
   },
   "file_extension": ".py",
   "mimetype": "text/x-python",
   "name": "python",
   "nbconvert_exporter": "python",
   "pygments_lexer": "ipython3",
   "version": "3.12.3"
  }
 },
 "nbformat": 4,
 "nbformat_minor": 2
}
