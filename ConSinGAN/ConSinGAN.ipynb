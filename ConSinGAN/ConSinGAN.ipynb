{
 "cells": [
  {
   "cell_type": "code",
   "execution_count": null,
   "metadata": {},
   "outputs": [],
   "source": [
    "import torch\n",
    "from torch import nn\n",
    "import torch.nn.functional as F\n",
    "from typing import Tuple, List, Optional\n",
    "import math\n",
    "import copy\n",
    "import tqdm\n",
    "import matplotlib.pyplot as plt"
   ]
  },
  {
   "cell_type": "code",
   "execution_count": 28,
   "metadata": {},
   "outputs": [],
   "source": [
    "class ConvBlock(nn.Module):\n",
    "    def __init__(self,\n",
    "                 in_channels: int,\n",
    "                 out_channels: int,\n",
    "                 kernel_size: int,\n",
    "                 padding: int,\n",
    "                 batch_norm: bool = False) -> None:\n",
    "        super(ConvBlock, self).__init__()\n",
    "        self.conv = nn.Conv2d(in_channels, out_channels, kernel_size, 1, padding)\n",
    "        self.norm = nn.BatchNorm2d(out_channels) if batch_norm else nn.Identity()\n",
    "        self.relu = nn.LeakyReLU(0.05, inplace=True)\n",
    "\n",
    "    def forward(self,\n",
    "                x: torch.Tensor) -> torch.Tensor:\n",
    "        return self.relu(self.norm(self.conv(x)))"
   ]
  },
  {
   "cell_type": "code",
   "execution_count": 51,
   "metadata": {},
   "outputs": [],
   "source": [
    "class Discriminator(nn.Module):\n",
    "    def __init__(self,\n",
    "                 in_channels: int,\n",
    "                 out_channels: int,\n",
    "                 kernel_size: int,\n",
    "                 padding: int,\n",
    "                 num_layer: int) -> None:\n",
    "        super(Discriminator, self).__init__()\n",
    "        self.head = ConvBlock(in_channels, out_channels, kernel_size, padding)\n",
    "        self.body = nn.Sequential(\n",
    "            *[ConvBlock(out_channels, out_channels, kernel_size, padding)\n",
    "            for _ in range(num_layer)]\n",
    "        )\n",
    "        self.tail = nn.Conv2d(out_channels, 1, kernel_size, padding)\n",
    "\n",
    "    def forward(self,\n",
    "                x: torch.Tensor) -> torch.Tensor:\n",
    "        x = self.head(x)\n",
    "        x = self.body(x)\n",
    "        return self.tail(x)"
   ]
  },
  {
   "cell_type": "code",
   "execution_count": null,
   "metadata": {},
   "outputs": [],
   "source": [
    "class Generator(nn.Module):\n",
    "    def __init__(self,\n",
    "                 in_channels: int,\n",
    "                 out_channels: int,\n",
    "                 kernel_size: int,\n",
    "                 padding: int,\n",
    "                 num_layers: int,\n",
    "                 batch_norm: bool = False) -> None:\n",
    "        super(Generator, self).__init__()\n",
    "        self.head = ConvBlock(in_channels, out_channels, kernel_size, padding, batch_norm)\n",
    "        self.body = nn.ModuleList()\n",
    "        self.body.append(nn.Sequential(\n",
    "            *[ConvBlock(out_channels, out_channels, kernel_size, padding, batch_norm)\n",
    "            for _ in range(num_layers)]\n",
    "        ))\n",
    "        self.tail = nn.Sequential(\n",
    "            nn.Conv2d(out_channels, in_channels, kernel_size, padding=padding),\n",
    "            nn.Tanh()\n",
    "        )\n",
    "    \n",
    "    def init_next_stage(self):\n",
    "        self.body.append(copy.deepcopy(self.body[-1]))\n",
    "    \n",
    "    def forward(self,\n",
    "                noise: List[torch.Tensor],\n",
    "                real_shapes: List[torch.Size],\n",
    "                noise_amp: List[float]) -> torch.Tensor:\n",
    "        x = self.head(noise[0])\n",
    "        x = self.body[0](x)\n",
    "        for i in range(1, len(self.body)):\n",
    "            x = F.interpolate(x, size=real_shapes[i], mode='bilinear', align_corners=True)\n",
    "            x = x + self.body[i](x + noise[i] * noise_amp[i])\n",
    "        return self.tail(x)"
   ]
  },
  {
   "cell_type": "code",
   "execution_count": 20,
   "metadata": {},
   "outputs": [],
   "source": [
    "def read_image(path: str) -> torch.Tensor:\n",
    "    image = plt.imread(path)\n",
    "    image = torch.from_numpy(image).float() / 255.0\n",
    "    image = image.permute(2, 0, 1)\n",
    "    return (image - 0.5) * 2\n",
    "\n",
    "def write_image(path: str,\n",
    "                image: torch.Tensor) -> None:\n",
    "    image = (image + 1) / 2\n",
    "    plt.imsave(path, image.permute(1, 2, 0).cpu().numpy(), vmin=0, vmax=1)"
   ]
  },
  {
   "cell_type": "code",
   "execution_count": null,
   "metadata": {},
   "outputs": [],
   "source": [
    "device = 'cuda' if torch.cuda.is_available() else 'cpu'\n",
    "path = '../data/angkorwat.jpg'\n",
    "image = read_image(path).to(device)\n",
    "max_size, min_size = 250, 25\n",
    "stages = 8 # stop_scale = stages - 1 = 7"
   ]
  },
  {
   "cell_type": "code",
   "execution_count": 33,
   "metadata": {},
   "outputs": [
    {
     "data": {
      "text/plain": [
       "(torch.Size([1, 3, 166, 250]), 0.763040197031911)"
      ]
     },
     "execution_count": 33,
     "metadata": {},
     "output_type": "execute_result"
    }
   ],
   "source": [
    "def adjust_scales2image(image: torch.Tensor,\n",
    "                        stop_scale: int = 7) -> Tuple[torch.Tensor, float]:\n",
    "    # resize the long side of the image to max_size\n",
    "    scale = min(max_size / max([image.shape[2], image.shape[3]]), 1)\n",
    "    real = F.interpolate(image, scale_factor=scale, mode='bilinear', align_corners=True)\n",
    "    # calculate the scaling factor for resizing the short side to min_size\n",
    "    scale_factor = math.pow(min_size / (min(real.shape[2], real.shape[3])), 1 / stop_scale)\n",
    "    return real, scale_factor\n",
    "real, scale_factor = adjust_scales2image(image.unsqueeze(0))\n",
    "real.shape, scale_factor"
   ]
  },
  {
   "cell_type": "code",
   "execution_count": 34,
   "metadata": {},
   "outputs": [
    {
     "name": "stdout",
     "output_type": "stream",
     "text": [
      "torch.Size([1, 3, 25, 37])\n",
      "torch.Size([1, 3, 28, 42])\n",
      "torch.Size([1, 3, 33, 49])\n",
      "torch.Size([1, 3, 39, 60])\n",
      "torch.Size([1, 3, 50, 76])\n",
      "torch.Size([1, 3, 71, 107])\n",
      "torch.Size([1, 3, 126, 190])\n",
      "torch.Size([1, 3, 166, 250])\n"
     ]
    }
   ],
   "source": [
    "def create_reals_pyramid(real, scale_factor: float, stop_scale: int = 7):\n",
    "    reals = []\n",
    "    for i in range(stop_scale):\n",
    "        scale = math.pow(scale_factor,((stop_scale-1)/math.log(stop_scale))*math.log(stop_scale-i)+1)\n",
    "        curr_real = F.interpolate(real, scale_factor=scale, mode='bilinear', align_corners=True)\n",
    "        reals.append(curr_real)\n",
    "    reals.append(real)\n",
    "    return reals\n",
    "\n",
    "reals = create_reals_pyramid(real, scale_factor)\n",
    "for r in reals:\n",
    "    print(r.shape)"
   ]
  },
  {
   "cell_type": "code",
   "execution_count": 36,
   "metadata": {},
   "outputs": [
    {
     "data": {
      "text/plain": [
       "(tensor([[0.6290]]), tensor([0.1069]), 0.14044876396656036)"
      ]
     },
     "execution_count": 36,
     "metadata": {},
     "output_type": "execute_result"
    }
   ],
   "source": [
    "torch.randn(1, 1), torch.randn(1), torch.randn(1).item()"
   ]
  },
  {
   "cell_type": "code",
   "execution_count": 63,
   "metadata": {},
   "outputs": [],
   "source": [
    "def calc_gradient_penalty(discriminator: Discriminator,\n",
    "                          real_data: torch.Tensor,\n",
    "                          fake_data: torch.Tensor,\n",
    "                          lamb: float = 0.1,\n",
    "                          device: str = 'cpu') -> torch.Tensor:\n",
    "    # alpha = torch.rand(1, 1)\n",
    "    # alpha = alpha.expand(real_data.size())\n",
    "    alpha = torch.rand(1).item()\n",
    "    interpolates = alpha * real_data + (1 - alpha) * fake_data\n",
    "    interpolates.requires_grad_(True)\n",
    "    disc_interpolates = discriminator(interpolates)\n",
    "    gradients = torch.autograd.grad(outputs=disc_interpolates, inputs=interpolates,\n",
    "                                    grad_outputs=torch.ones_like(disc_interpolates, device=device),\n",
    "                                    create_graph=True, retain_graph=True, only_inputs=True)[0]\n",
    "    gradient_penalty = ((gradients.norm(2, dim=1) - 1) ** 2).mean() * lamb\n",
    "    return gradient_penalty"
   ]
  },
  {
   "cell_type": "code",
   "execution_count": 90,
   "metadata": {},
   "outputs": [],
   "source": [
    "generator = Generator(3, 64, 3, 1, 3, False).to(device)\n",
    "discriminator = Discriminator(3, 64, 3, 1, 3).to(device)\n",
    "fixed_noise = []\n",
    "noise_amp = []\n",
    "\n",
    "\n",
    "d_iter = g_iter = 3\n",
    "max_epochs = 2000\n",
    "lr = 0.0005\n",
    "lr_scale = 0.1\n",
    "beta1 = 0.5\n",
    "gamma = 0.1\n",
    "lamb = 0.1\n",
    "alpha = 10\n",
    "reals_shapes = [real.shape[2:] for real in reals]\n",
    "train_depth = 3"
   ]
  },
  {
   "cell_type": "code",
   "execution_count": 91,
   "metadata": {},
   "outputs": [
    {
     "name": "stderr",
     "output_type": "stream",
     "text": [
      " 13%|█▎        | 255/2000 [00:09<01:02, 28.04it/s]"
     ]
    },
    {
     "name": "stdout",
     "output_type": "stream",
     "text": [
      "Epoch:  250, D_real Loss: 4.30068, D_fake Loss: 1.59975, D_gradient_penalty: 0.53338, G_fake Loss: -2.47047, G_rec Loss: 0.10092\n"
     ]
    },
    {
     "name": "stderr",
     "output_type": "stream",
     "text": [
      " 25%|██▌       | 503/2000 [00:18<00:53, 28.05it/s]"
     ]
    },
    {
     "name": "stdout",
     "output_type": "stream",
     "text": [
      "Epoch:  500, D_real Loss: 3.07716, D_fake Loss: 0.60868, D_gradient_penalty: 0.51457, G_fake Loss: -1.20070, G_rec Loss: 0.07324\n"
     ]
    },
    {
     "name": "stderr",
     "output_type": "stream",
     "text": [
      " 38%|███▊      | 756/2000 [00:27<00:43, 28.73it/s]"
     ]
    },
    {
     "name": "stdout",
     "output_type": "stream",
     "text": [
      "Epoch:  750, D_real Loss: 2.29107, D_fake Loss: -0.12926, D_gradient_penalty: 1.10258, G_fake Loss: 0.10690, G_rec Loss: 0.03019\n"
     ]
    },
    {
     "name": "stderr",
     "output_type": "stream",
     "text": [
      " 50%|█████     | 1004/2000 [00:36<00:34, 28.79it/s]"
     ]
    },
    {
     "name": "stdout",
     "output_type": "stream",
     "text": [
      "Epoch:  1000, D_real Loss: 2.24582, D_fake Loss: -0.16952, D_gradient_penalty: 0.96145, G_fake Loss: 0.24900, G_rec Loss: 0.02169\n"
     ]
    },
    {
     "name": "stderr",
     "output_type": "stream",
     "text": [
      " 63%|██████▎   | 1253/2000 [00:45<00:26, 27.73it/s]"
     ]
    },
    {
     "name": "stdout",
     "output_type": "stream",
     "text": [
      "Epoch:  1250, D_real Loss: 2.22249, D_fake Loss: -1.27685, D_gradient_penalty: 0.96704, G_fake Loss: 1.55424, G_rec Loss: 0.02218\n"
     ]
    },
    {
     "name": "stderr",
     "output_type": "stream",
     "text": [
      " 75%|███████▌  | 1505/2000 [00:54<00:17, 28.42it/s]"
     ]
    },
    {
     "name": "stdout",
     "output_type": "stream",
     "text": [
      "Epoch:  1500, D_real Loss: 1.82246, D_fake Loss: -1.62922, D_gradient_penalty: 1.85099, G_fake Loss: 1.96205, G_rec Loss: 0.01462\n"
     ]
    },
    {
     "name": "stderr",
     "output_type": "stream",
     "text": [
      " 88%|████████▊ | 1755/2000 [01:03<00:08, 28.23it/s]"
     ]
    },
    {
     "name": "stdout",
     "output_type": "stream",
     "text": [
      "Epoch:  1750, D_real Loss: 0.79192, D_fake Loss: -1.99299, D_gradient_penalty: 1.04691, G_fake Loss: 1.98249, G_rec Loss: 0.00689\n"
     ]
    },
    {
     "name": "stderr",
     "output_type": "stream",
     "text": [
      "100%|██████████| 2000/2000 [01:11<00:00, 27.90it/s]\n",
      "C:\\Users\\14273\\AppData\\Local\\Temp\\ipykernel_29704\\1992770827.py:31: UserWarning: `nn.functional.upsample` is deprecated. Use `nn.functional.interpolate` instead.\n",
      "  x = F.upsample(x, size=real_shapes[i], mode='bilinear', align_corners=True)\n"
     ]
    },
    {
     "name": "stdout",
     "output_type": "stream",
     "text": [
      "Epoch:  2000, D_real Loss: 0.82904, D_fake Loss: -2.38501, D_gradient_penalty: 1.69481, G_fake Loss: 2.44950, G_rec Loss: 0.00591\n"
     ]
    },
    {
     "name": "stderr",
     "output_type": "stream",
     "text": [
      " 13%|█▎        | 252/2000 [00:10<01:13, 23.94it/s]"
     ]
    },
    {
     "name": "stdout",
     "output_type": "stream",
     "text": [
      "Epoch:  250, D_real Loss: 0.14297, D_fake Loss: -1.00803, D_gradient_penalty: 0.30931, G_fake Loss: 0.87406, G_rec Loss: 0.01556\n"
     ]
    },
    {
     "name": "stderr",
     "output_type": "stream",
     "text": [
      " 25%|██▌       | 504/2000 [00:21<01:01, 24.33it/s]"
     ]
    },
    {
     "name": "stdout",
     "output_type": "stream",
     "text": [
      "Epoch:  500, D_real Loss: 0.68886, D_fake Loss: -0.63819, D_gradient_penalty: 0.31413, G_fake Loss: 0.74943, G_rec Loss: 0.00819\n"
     ]
    },
    {
     "name": "stderr",
     "output_type": "stream",
     "text": [
      " 38%|███▊      | 754/2000 [00:31<00:50, 24.50it/s]"
     ]
    },
    {
     "name": "stdout",
     "output_type": "stream",
     "text": [
      "Epoch:  750, D_real Loss: 1.16750, D_fake Loss: -0.29832, D_gradient_penalty: 0.36517, G_fake Loss: 0.26229, G_rec Loss: 0.00906\n"
     ]
    },
    {
     "name": "stderr",
     "output_type": "stream",
     "text": [
      " 50%|█████     | 1003/2000 [00:42<00:41, 24.16it/s]"
     ]
    },
    {
     "name": "stdout",
     "output_type": "stream",
     "text": [
      "Epoch:  1000, D_real Loss: 1.16454, D_fake Loss: -0.25319, D_gradient_penalty: 0.82521, G_fake Loss: 0.34075, G_rec Loss: 0.00822\n"
     ]
    },
    {
     "name": "stderr",
     "output_type": "stream",
     "text": [
      " 63%|██████▎   | 1255/2000 [00:52<00:29, 24.87it/s]"
     ]
    },
    {
     "name": "stdout",
     "output_type": "stream",
     "text": [
      "Epoch:  1250, D_real Loss: 0.28956, D_fake Loss: -1.07511, D_gradient_penalty: 0.45249, G_fake Loss: 1.44491, G_rec Loss: 0.00506\n"
     ]
    },
    {
     "name": "stderr",
     "output_type": "stream",
     "text": [
      " 75%|███████▌  | 1504/2000 [01:02<00:21, 23.25it/s]"
     ]
    },
    {
     "name": "stdout",
     "output_type": "stream",
     "text": [
      "Epoch:  1500, D_real Loss: 0.06413, D_fake Loss: -1.18476, D_gradient_penalty: 0.69806, G_fake Loss: 1.28617, G_rec Loss: 0.00405\n"
     ]
    },
    {
     "name": "stderr",
     "output_type": "stream",
     "text": [
      " 88%|████████▊ | 1753/2000 [01:12<00:10, 23.74it/s]"
     ]
    },
    {
     "name": "stdout",
     "output_type": "stream",
     "text": [
      "Epoch:  1750, D_real Loss: -0.00922, D_fake Loss: -1.31877, D_gradient_penalty: 0.26815, G_fake Loss: 1.29585, G_rec Loss: 0.00155\n"
     ]
    },
    {
     "name": "stderr",
     "output_type": "stream",
     "text": [
      "100%|██████████| 2000/2000 [01:23<00:00, 23.94it/s]\n"
     ]
    },
    {
     "name": "stdout",
     "output_type": "stream",
     "text": [
      "Epoch:  2000, D_real Loss: -0.17788, D_fake Loss: -1.45792, D_gradient_penalty: 0.51880, G_fake Loss: 1.50247, G_rec Loss: 0.00138\n"
     ]
    },
    {
     "name": "stderr",
     "output_type": "stream",
     "text": [
      " 13%|█▎        | 253/2000 [00:12<01:17, 22.65it/s]"
     ]
    },
    {
     "name": "stdout",
     "output_type": "stream",
     "text": [
      "Epoch:  250, D_real Loss: -0.92732, D_fake Loss: -1.74971, D_gradient_penalty: 0.37569, G_fake Loss: 2.09932, G_rec Loss: 0.01524\n"
     ]
    },
    {
     "name": "stderr",
     "output_type": "stream",
     "text": [
      " 25%|██▌       | 502/2000 [00:23<01:07, 22.08it/s]"
     ]
    },
    {
     "name": "stdout",
     "output_type": "stream",
     "text": [
      "Epoch:  500, D_real Loss: -0.89243, D_fake Loss: -1.65159, D_gradient_penalty: 0.36462, G_fake Loss: 1.69437, G_rec Loss: 0.00791\n"
     ]
    },
    {
     "name": "stderr",
     "output_type": "stream",
     "text": [
      " 38%|███▊      | 752/2000 [00:34<00:55, 22.69it/s]"
     ]
    },
    {
     "name": "stdout",
     "output_type": "stream",
     "text": [
      "Epoch:  750, D_real Loss: -1.54297, D_fake Loss: -2.38167, D_gradient_penalty: 0.46503, G_fake Loss: 2.22033, G_rec Loss: 0.00690\n"
     ]
    },
    {
     "name": "stderr",
     "output_type": "stream",
     "text": [
      " 50%|█████     | 1004/2000 [00:46<00:45, 21.84it/s]"
     ]
    },
    {
     "name": "stdout",
     "output_type": "stream",
     "text": [
      "Epoch:  1000, D_real Loss: -0.92100, D_fake Loss: -1.70708, D_gradient_penalty: 0.14511, G_fake Loss: 1.54187, G_rec Loss: 0.01222\n"
     ]
    },
    {
     "name": "stderr",
     "output_type": "stream",
     "text": [
      " 63%|██████▎   | 1254/2000 [00:58<00:32, 23.15it/s]"
     ]
    },
    {
     "name": "stdout",
     "output_type": "stream",
     "text": [
      "Epoch:  1250, D_real Loss: -0.74416, D_fake Loss: -1.53110, D_gradient_penalty: 0.51536, G_fake Loss: 1.73433, G_rec Loss: 0.00543\n"
     ]
    },
    {
     "name": "stderr",
     "output_type": "stream",
     "text": [
      " 75%|███████▌  | 1503/2000 [01:09<00:21, 22.73it/s]"
     ]
    },
    {
     "name": "stdout",
     "output_type": "stream",
     "text": [
      "Epoch:  1500, D_real Loss: -1.06551, D_fake Loss: -1.90034, D_gradient_penalty: 0.28693, G_fake Loss: 2.15633, G_rec Loss: 0.00719\n"
     ]
    },
    {
     "name": "stderr",
     "output_type": "stream",
     "text": [
      " 88%|████████▊ | 1754/2000 [01:20<00:10, 23.47it/s]"
     ]
    },
    {
     "name": "stdout",
     "output_type": "stream",
     "text": [
      "Epoch:  1750, D_real Loss: -1.17838, D_fake Loss: -1.90666, D_gradient_penalty: 0.14707, G_fake Loss: 1.88710, G_rec Loss: 0.00157\n"
     ]
    },
    {
     "name": "stderr",
     "output_type": "stream",
     "text": [
      "100%|██████████| 2000/2000 [01:31<00:00, 21.97it/s]\n"
     ]
    },
    {
     "name": "stdout",
     "output_type": "stream",
     "text": [
      "Epoch:  2000, D_real Loss: -1.31049, D_fake Loss: -2.04711, D_gradient_penalty: 0.25747, G_fake Loss: 2.02764, G_rec Loss: 0.00147\n"
     ]
    },
    {
     "name": "stderr",
     "output_type": "stream",
     "text": [
      " 13%|█▎        | 254/2000 [00:11<01:19, 21.91it/s]"
     ]
    },
    {
     "name": "stdout",
     "output_type": "stream",
     "text": [
      "Epoch:  250, D_real Loss: -1.07494, D_fake Loss: -1.57599, D_gradient_penalty: 0.19962, G_fake Loss: 1.76766, G_rec Loss: 0.01013\n"
     ]
    },
    {
     "name": "stderr",
     "output_type": "stream",
     "text": [
      " 25%|██▌       | 503/2000 [00:23<01:08, 21.93it/s]"
     ]
    },
    {
     "name": "stdout",
     "output_type": "stream",
     "text": [
      "Epoch:  500, D_real Loss: -1.74285, D_fake Loss: -2.25621, D_gradient_penalty: 0.14770, G_fake Loss: 1.83469, G_rec Loss: 0.00941\n"
     ]
    },
    {
     "name": "stderr",
     "output_type": "stream",
     "text": [
      " 38%|███▊      | 754/2000 [00:34<00:55, 22.43it/s]"
     ]
    },
    {
     "name": "stdout",
     "output_type": "stream",
     "text": [
      "Epoch:  750, D_real Loss: -1.26367, D_fake Loss: -1.83781, D_gradient_penalty: 0.22544, G_fake Loss: 2.08677, G_rec Loss: 0.01341\n"
     ]
    },
    {
     "name": "stderr",
     "output_type": "stream",
     "text": [
      " 50%|█████     | 1003/2000 [00:46<00:47, 21.02it/s]"
     ]
    },
    {
     "name": "stdout",
     "output_type": "stream",
     "text": [
      "Epoch:  1000, D_real Loss: -1.78488, D_fake Loss: -2.24749, D_gradient_penalty: 0.12941, G_fake Loss: 2.02706, G_rec Loss: 0.00814\n"
     ]
    },
    {
     "name": "stderr",
     "output_type": "stream",
     "text": [
      " 63%|██████▎   | 1252/2000 [00:57<00:35, 20.85it/s]"
     ]
    },
    {
     "name": "stdout",
     "output_type": "stream",
     "text": [
      "Epoch:  1250, D_real Loss: -1.34330, D_fake Loss: -1.92231, D_gradient_penalty: 0.31016, G_fake Loss: 2.22601, G_rec Loss: 0.01329\n"
     ]
    },
    {
     "name": "stderr",
     "output_type": "stream",
     "text": [
      " 75%|███████▌  | 1501/2000 [01:09<00:24, 20.68it/s]"
     ]
    },
    {
     "name": "stdout",
     "output_type": "stream",
     "text": [
      "Epoch:  1500, D_real Loss: -1.21301, D_fake Loss: -1.86882, D_gradient_penalty: 0.16213, G_fake Loss: 1.88064, G_rec Loss: 0.00841\n"
     ]
    },
    {
     "name": "stderr",
     "output_type": "stream",
     "text": [
      " 88%|████████▊ | 1753/2000 [01:22<00:11, 20.73it/s]"
     ]
    },
    {
     "name": "stdout",
     "output_type": "stream",
     "text": [
      "Epoch:  1750, D_real Loss: -1.52167, D_fake Loss: -2.00709, D_gradient_penalty: 0.25926, G_fake Loss: 2.00587, G_rec Loss: 0.00191\n"
     ]
    },
    {
     "name": "stderr",
     "output_type": "stream",
     "text": [
      "100%|██████████| 2000/2000 [01:34<00:00, 21.27it/s]\n"
     ]
    },
    {
     "name": "stdout",
     "output_type": "stream",
     "text": [
      "Epoch:  2000, D_real Loss: -1.65972, D_fake Loss: -2.25191, D_gradient_penalty: 0.11451, G_fake Loss: 2.23133, G_rec Loss: 0.00177\n"
     ]
    },
    {
     "name": "stderr",
     "output_type": "stream",
     "text": [
      " 12%|█▎        | 250/2000 [00:36<04:57,  5.87it/s]"
     ]
    },
    {
     "name": "stdout",
     "output_type": "stream",
     "text": [
      "Epoch:  250, D_real Loss: -1.31871, D_fake Loss: -1.69631, D_gradient_penalty: 0.09456, G_fake Loss: 1.54201, G_rec Loss: 0.01617\n"
     ]
    },
    {
     "name": "stderr",
     "output_type": "stream",
     "text": [
      " 25%|██▌       | 502/2000 [01:12<03:27,  7.24it/s]"
     ]
    },
    {
     "name": "stdout",
     "output_type": "stream",
     "text": [
      "Epoch:  500, D_real Loss: -1.44710, D_fake Loss: -1.79144, D_gradient_penalty: 0.07967, G_fake Loss: 1.66353, G_rec Loss: 0.01037\n"
     ]
    },
    {
     "name": "stderr",
     "output_type": "stream",
     "text": [
      " 38%|███▊      | 752/2000 [01:48<02:51,  7.27it/s]"
     ]
    },
    {
     "name": "stdout",
     "output_type": "stream",
     "text": [
      "Epoch:  750, D_real Loss: -1.35011, D_fake Loss: -1.69682, D_gradient_penalty: 0.11735, G_fake Loss: 1.58980, G_rec Loss: 0.00872\n"
     ]
    },
    {
     "name": "stderr",
     "output_type": "stream",
     "text": [
      " 50%|█████     | 1000/2000 [02:24<02:48,  5.93it/s]"
     ]
    },
    {
     "name": "stdout",
     "output_type": "stream",
     "text": [
      "Epoch:  1000, D_real Loss: -1.50733, D_fake Loss: -1.80243, D_gradient_penalty: 0.14229, G_fake Loss: 2.06407, G_rec Loss: 0.00878\n"
     ]
    },
    {
     "name": "stderr",
     "output_type": "stream",
     "text": [
      " 62%|██████▎   | 1250/2000 [03:00<02:06,  5.91it/s]"
     ]
    },
    {
     "name": "stdout",
     "output_type": "stream",
     "text": [
      "Epoch:  1250, D_real Loss: -1.59128, D_fake Loss: -1.90309, D_gradient_penalty: 0.12444, G_fake Loss: 1.53958, G_rec Loss: 0.00843\n"
     ]
    },
    {
     "name": "stderr",
     "output_type": "stream",
     "text": [
      " 75%|███████▌  | 1500/2000 [03:36<01:26,  5.78it/s]"
     ]
    },
    {
     "name": "stdout",
     "output_type": "stream",
     "text": [
      "Epoch:  1500, D_real Loss: -1.25129, D_fake Loss: -1.59892, D_gradient_penalty: 0.11444, G_fake Loss: 1.61913, G_rec Loss: 0.00749\n"
     ]
    },
    {
     "name": "stderr",
     "output_type": "stream",
     "text": [
      " 88%|████████▊ | 1750/2000 [04:12<00:41,  5.98it/s]"
     ]
    },
    {
     "name": "stdout",
     "output_type": "stream",
     "text": [
      "Epoch:  1750, D_real Loss: -1.56559, D_fake Loss: -1.96301, D_gradient_penalty: 0.08582, G_fake Loss: 1.94526, G_rec Loss: 0.00236\n"
     ]
    },
    {
     "name": "stderr",
     "output_type": "stream",
     "text": [
      "100%|██████████| 2000/2000 [04:49<00:00,  6.92it/s]\n"
     ]
    },
    {
     "name": "stdout",
     "output_type": "stream",
     "text": [
      "Epoch:  2000, D_real Loss: -1.70752, D_fake Loss: -2.02349, D_gradient_penalty: 0.10173, G_fake Loss: 2.02005, G_rec Loss: 0.00222\n"
     ]
    },
    {
     "name": "stderr",
     "output_type": "stream",
     "text": [
      " 12%|█▎        | 250/2000 [00:41<05:39,  5.16it/s]"
     ]
    },
    {
     "name": "stdout",
     "output_type": "stream",
     "text": [
      "Epoch:  250, D_real Loss: -0.68473, D_fake Loss: -0.86191, D_gradient_penalty: 0.03913, G_fake Loss: 0.78401, G_rec Loss: 0.02434\n"
     ]
    },
    {
     "name": "stderr",
     "output_type": "stream",
     "text": [
      " 25%|██▌       | 500/2000 [01:22<04:57,  5.05it/s]"
     ]
    },
    {
     "name": "stdout",
     "output_type": "stream",
     "text": [
      "Epoch:  500, D_real Loss: -1.31948, D_fake Loss: -1.50996, D_gradient_penalty: 0.05763, G_fake Loss: 1.33810, G_rec Loss: 0.01222\n"
     ]
    },
    {
     "name": "stderr",
     "output_type": "stream",
     "text": [
      " 38%|███▊      | 752/2000 [01:55<02:09,  9.65it/s]"
     ]
    },
    {
     "name": "stdout",
     "output_type": "stream",
     "text": [
      "Epoch:  750, D_real Loss: -1.13813, D_fake Loss: -1.31609, D_gradient_penalty: 0.06968, G_fake Loss: 1.21373, G_rec Loss: 0.01476\n"
     ]
    },
    {
     "name": "stderr",
     "output_type": "stream",
     "text": [
      " 50%|█████     | 1002/2000 [02:22<01:46,  9.36it/s]"
     ]
    },
    {
     "name": "stdout",
     "output_type": "stream",
     "text": [
      "Epoch:  1000, D_real Loss: -1.27105, D_fake Loss: -1.48525, D_gradient_penalty: 0.04881, G_fake Loss: 1.44137, G_rec Loss: 0.00899\n"
     ]
    },
    {
     "name": "stderr",
     "output_type": "stream",
     "text": [
      " 63%|██████▎   | 1252/2000 [02:49<01:17,  9.64it/s]"
     ]
    },
    {
     "name": "stdout",
     "output_type": "stream",
     "text": [
      "Epoch:  1250, D_real Loss: -1.17490, D_fake Loss: -1.34729, D_gradient_penalty: 0.07490, G_fake Loss: 1.27939, G_rec Loss: 0.01294\n"
     ]
    },
    {
     "name": "stderr",
     "output_type": "stream",
     "text": [
      " 75%|███████▌  | 1502/2000 [03:17<00:51,  9.61it/s]"
     ]
    },
    {
     "name": "stdout",
     "output_type": "stream",
     "text": [
      "Epoch:  1500, D_real Loss: -1.20657, D_fake Loss: -1.41316, D_gradient_penalty: 0.06459, G_fake Loss: 1.40172, G_rec Loss: 0.00867\n"
     ]
    },
    {
     "name": "stderr",
     "output_type": "stream",
     "text": [
      " 88%|████████▊ | 1752/2000 [03:44<00:26,  9.41it/s]"
     ]
    },
    {
     "name": "stdout",
     "output_type": "stream",
     "text": [
      "Epoch:  1750, D_real Loss: -1.05113, D_fake Loss: -1.25689, D_gradient_penalty: 0.05925, G_fake Loss: 1.25493, G_rec Loss: 0.00314\n"
     ]
    },
    {
     "name": "stderr",
     "output_type": "stream",
     "text": [
      "100%|██████████| 2000/2000 [04:11<00:00,  7.95it/s]\n"
     ]
    },
    {
     "name": "stdout",
     "output_type": "stream",
     "text": [
      "Epoch:  2000, D_real Loss: -1.16550, D_fake Loss: -1.36689, D_gradient_penalty: 0.10838, G_fake Loss: 1.39329, G_rec Loss: 0.00305\n"
     ]
    },
    {
     "name": "stderr",
     "output_type": "stream",
     "text": [
      " 12%|█▎        | 250/2000 [01:36<12:15,  2.38it/s]"
     ]
    },
    {
     "name": "stdout",
     "output_type": "stream",
     "text": [
      "Epoch:  250, D_real Loss: -0.45376, D_fake Loss: -0.52796, D_gradient_penalty: 0.02185, G_fake Loss: 0.60786, G_rec Loss: 0.02508\n"
     ]
    },
    {
     "name": "stderr",
     "output_type": "stream",
     "text": [
      " 25%|██▌       | 500/2000 [03:11<10:32,  2.37it/s]"
     ]
    },
    {
     "name": "stdout",
     "output_type": "stream",
     "text": [
      "Epoch:  500, D_real Loss: -0.98195, D_fake Loss: -1.08206, D_gradient_penalty: 0.02786, G_fake Loss: 1.13394, G_rec Loss: 0.01516\n"
     ]
    },
    {
     "name": "stderr",
     "output_type": "stream",
     "text": [
      " 38%|███▊      | 750/2000 [04:47<08:47,  2.37it/s]"
     ]
    },
    {
     "name": "stdout",
     "output_type": "stream",
     "text": [
      "Epoch:  750, D_real Loss: -0.83811, D_fake Loss: -0.94755, D_gradient_penalty: 0.03686, G_fake Loss: 1.02432, G_rec Loss: 0.02484\n"
     ]
    },
    {
     "name": "stderr",
     "output_type": "stream",
     "text": [
      " 50%|█████     | 1000/2000 [06:22<07:03,  2.36it/s]"
     ]
    },
    {
     "name": "stdout",
     "output_type": "stream",
     "text": [
      "Epoch:  1000, D_real Loss: -1.03377, D_fake Loss: -1.14765, D_gradient_penalty: 0.03285, G_fake Loss: 1.14775, G_rec Loss: 0.01300\n"
     ]
    },
    {
     "name": "stderr",
     "output_type": "stream",
     "text": [
      " 62%|██████▎   | 1250/2000 [07:58<05:17,  2.36it/s]"
     ]
    },
    {
     "name": "stdout",
     "output_type": "stream",
     "text": [
      "Epoch:  1250, D_real Loss: -0.97679, D_fake Loss: -1.08590, D_gradient_penalty: 0.03033, G_fake Loss: 1.11043, G_rec Loss: 0.01693\n"
     ]
    },
    {
     "name": "stderr",
     "output_type": "stream",
     "text": [
      " 75%|███████▌  | 1500/2000 [09:34<03:34,  2.33it/s]"
     ]
    },
    {
     "name": "stdout",
     "output_type": "stream",
     "text": [
      "Epoch:  1500, D_real Loss: -0.88732, D_fake Loss: -1.01657, D_gradient_penalty: 0.04183, G_fake Loss: 1.14144, G_rec Loss: 0.01578\n"
     ]
    },
    {
     "name": "stderr",
     "output_type": "stream",
     "text": [
      " 88%|████████▊ | 1750/2000 [11:10<01:45,  2.37it/s]"
     ]
    },
    {
     "name": "stdout",
     "output_type": "stream",
     "text": [
      "Epoch:  1750, D_real Loss: -0.87843, D_fake Loss: -1.00853, D_gradient_penalty: 0.03616, G_fake Loss: 1.01423, G_rec Loss: 0.00581\n"
     ]
    },
    {
     "name": "stderr",
     "output_type": "stream",
     "text": [
      "100%|██████████| 2000/2000 [12:46<00:00,  2.61it/s]\n"
     ]
    },
    {
     "name": "stdout",
     "output_type": "stream",
     "text": [
      "Epoch:  2000, D_real Loss: -1.09222, D_fake Loss: -1.21551, D_gradient_penalty: 0.06237, G_fake Loss: 1.23614, G_rec Loss: 0.00574\n"
     ]
    },
    {
     "name": "stderr",
     "output_type": "stream",
     "text": [
      " 12%|█▎        | 250/2000 [02:38<20:50,  1.40it/s]"
     ]
    },
    {
     "name": "stdout",
     "output_type": "stream",
     "text": [
      "Epoch:  250, D_real Loss: -0.60581, D_fake Loss: -0.69395, D_gradient_penalty: 0.03352, G_fake Loss: 1.01242, G_rec Loss: 0.02757\n"
     ]
    },
    {
     "name": "stderr",
     "output_type": "stream",
     "text": [
      " 25%|██▌       | 500/2000 [05:18<17:58,  1.39it/s]"
     ]
    },
    {
     "name": "stdout",
     "output_type": "stream",
     "text": [
      "Epoch:  500, D_real Loss: -0.91214, D_fake Loss: -1.01908, D_gradient_penalty: 0.03314, G_fake Loss: 1.13364, G_rec Loss: 0.02359\n"
     ]
    },
    {
     "name": "stderr",
     "output_type": "stream",
     "text": [
      " 38%|███▊      | 750/2000 [07:59<14:53,  1.40it/s]"
     ]
    },
    {
     "name": "stdout",
     "output_type": "stream",
     "text": [
      "Epoch:  750, D_real Loss: -0.96116, D_fake Loss: -1.09413, D_gradient_penalty: 0.04179, G_fake Loss: 1.10706, G_rec Loss: 0.02115\n"
     ]
    },
    {
     "name": "stderr",
     "output_type": "stream",
     "text": [
      " 50%|█████     | 1000/2000 [10:39<11:55,  1.40it/s]"
     ]
    },
    {
     "name": "stdout",
     "output_type": "stream",
     "text": [
      "Epoch:  1000, D_real Loss: -1.05566, D_fake Loss: -1.17584, D_gradient_penalty: 0.02910, G_fake Loss: 1.13134, G_rec Loss: 0.01832\n"
     ]
    },
    {
     "name": "stderr",
     "output_type": "stream",
     "text": [
      " 62%|██████▎   | 1250/2000 [13:20<08:56,  1.40it/s]"
     ]
    },
    {
     "name": "stdout",
     "output_type": "stream",
     "text": [
      "Epoch:  1250, D_real Loss: -1.22309, D_fake Loss: -1.34485, D_gradient_penalty: 0.03416, G_fake Loss: 1.32614, G_rec Loss: 0.01612\n"
     ]
    },
    {
     "name": "stderr",
     "output_type": "stream",
     "text": [
      " 75%|███████▌  | 1500/2000 [15:31<04:10,  2.00it/s]"
     ]
    },
    {
     "name": "stdout",
     "output_type": "stream",
     "text": [
      "Epoch:  1500, D_real Loss: -1.36419, D_fake Loss: -1.50761, D_gradient_penalty: 0.04406, G_fake Loss: 1.57757, G_rec Loss: 0.01631\n"
     ]
    },
    {
     "name": "stderr",
     "output_type": "stream",
     "text": [
      " 88%|████████▊ | 1750/2000 [17:25<02:06,  1.97it/s]"
     ]
    },
    {
     "name": "stdout",
     "output_type": "stream",
     "text": [
      "Epoch:  1750, D_real Loss: -1.39273, D_fake Loss: -1.52153, D_gradient_penalty: 0.05710, G_fake Loss: 1.53567, G_rec Loss: 0.00886\n"
     ]
    },
    {
     "name": "stderr",
     "output_type": "stream",
     "text": [
      "100%|██████████| 2000/2000 [19:19<00:00,  1.73it/s]"
     ]
    },
    {
     "name": "stdout",
     "output_type": "stream",
     "text": [
      "Epoch:  2000, D_real Loss: -1.41666, D_fake Loss: -1.55512, D_gradient_penalty: 0.06552, G_fake Loss: 1.57962, G_rec Loss: 0.00875\n"
     ]
    },
    {
     "name": "stderr",
     "output_type": "stream",
     "text": [
      "\n"
     ]
    }
   ],
   "source": [
    "for stage in range(stages):\n",
    "    if stage:\n",
    "        # discriminator.load_state_dict(torch.load(f'output/discriminator/netD.pth'))\n",
    "        generator.init_next_stage()\n",
    "    \n",
    "    real = reals[stage]\n",
    "    z_opt = reals[0] if stage == 0 else torch.randn(1, 64, *reals_shapes[stage], device=device)\n",
    "    fixed_noise.append(z_opt)\n",
    "    \n",
    "    optim_d = torch.optim.Adam(discriminator.parameters(), lr=lr, betas=(beta1, 0.999))\n",
    "\n",
    "    for block in generator.body[:-train_depth]:\n",
    "        for param in block.parameters():\n",
    "            param.requires_grad = False\n",
    "    \n",
    "    parameter_list = [{\"params\": block.parameters(), \"lr\": lr * (lr_scale ** (len(generator.body[-train_depth:]) - 1 - idx))}\n",
    "            for idx, block in enumerate(generator.body[-train_depth:])]\n",
    "\n",
    "    # add parameters of head and tail to training\n",
    "    if stage - train_depth < 0:\n",
    "        parameter_list += [{\"params\": generator.head.parameters(), \"lr\": lr * (lr_scale ** stage)}]\n",
    "    parameter_list += [{\"params\": generator.tail.parameters(), \"lr\": lr}]\n",
    "    optim_g = torch.optim.Adam(parameter_list, lr=lr, betas=(beta1, 0.999))\n",
    "\n",
    "    # define learning rate schedules\n",
    "    schedulerD = torch.optim.lr_scheduler.MultiStepLR(optimizer=optim_d, milestones=[0.8 * max_epochs], gamma=gamma)\n",
    "    schedulerG = torch.optim.lr_scheduler.MultiStepLR(optimizer=optim_g, milestones=[0.8 * max_epochs], gamma=gamma)\n",
    "\n",
    "    # calculate noise_amp\n",
    "    if stage == 0:\n",
    "        noise_amp.append(1)\n",
    "    else:\n",
    "        noise_amp.append(0)\n",
    "        with torch.no_grad():\n",
    "            z_reconstruction = generator(fixed_noise, reals_shapes, noise_amp)\n",
    "        rec_loss = F.mse_loss(z_reconstruction, real)\n",
    "        noise_amp[-1] = 0.1 * torch.sqrt(rec_loss)\n",
    "\n",
    "    for epoch in tqdm.tqdm(range(1, max_epochs + 1)):\n",
    "        noise = [torch.randn(*z.shape, device=device) for z in fixed_noise]\n",
    "\n",
    "        # update discriminator: minimize D(G(z)) - D(x)\n",
    "        for j in range(d_iter):\n",
    "            output = discriminator(real)\n",
    "            errD_real = -output.mean()\n",
    "            \n",
    "            if j == d_iter - 1:\n",
    "                fake = generator(noise, reals_shapes, noise_amp)\n",
    "            else:\n",
    "                with torch.no_grad():\n",
    "                    fake = generator(noise, reals_shapes, noise_amp)\n",
    "            \n",
    "            output = discriminator(fake.detach())\n",
    "            errD_fake = output.mean()\n",
    "            \n",
    "            gradient_penalty = calc_gradient_penalty(discriminator, real, fake.detach(), lamb, device)\n",
    "            errD_total = errD_real + errD_fake + gradient_penalty\n",
    "            optim_d.zero_grad()\n",
    "            errD_total.backward()\n",
    "            optim_d.step()\n",
    "        \n",
    "        # update generator: minimize -D(G(z))\n",
    "        output = discriminator(fake)\n",
    "        errG = -output.mean()\n",
    "        \n",
    "        rec = generator(fixed_noise, reals_shapes, noise_amp)\n",
    "        rec_loss = alpha * F.mse_loss(rec, real)\n",
    "        \n",
    "        errG_total = errG + rec_loss\n",
    "        optim_g.zero_grad()\n",
    "        errG_total.backward()\n",
    "        for _ in range(g_iter):\n",
    "            optim_g.step()\n",
    "        \n",
    "        if epoch % 250 == 0:\n",
    "            print(f'Epoch: {epoch: 04d}, D_real Loss: {-errD_real.item():.5f}, D_fake Loss: {errD_fake.item():.5f}, '\n",
    "                  f'D_gradient_penalty: {gradient_penalty.item():.5f}, G_fake Loss: {errG.item():.5f}, G_rec Loss: {rec_loss.item():.5f}')\n",
    "        if epoch % 500 == 0:\n",
    "            write_image(f'output/fake_sample_{epoch:04d}.jpg', fake.detach().squeeze(0))\n",
    "            write_image(f'output/reconstruction_{epoch: 04d}.jpg', rec.detach().squeeze(0))\n",
    "        \n",
    "        schedulerD.step()\n",
    "        schedulerG.step()"
   ]
  },
  {
   "cell_type": "code",
   "execution_count": 86,
   "metadata": {},
   "outputs": [
    {
     "data": {
      "text/plain": [
       "torch.Size([1, 3, 28, 42])"
      ]
     },
     "execution_count": 86,
     "metadata": {},
     "output_type": "execute_result"
    }
   ],
   "source": [
    "F.interpolate(torch.randn(1, 3, 25, 37), size=(28, 42), mode='bilinear', align_corners=True).shape"
   ]
  },
  {
   "cell_type": "code",
   "execution_count": 78,
   "metadata": {},
   "outputs": [
    {
     "data": {
      "text/plain": [
       "3"
      ]
     },
     "execution_count": 78,
     "metadata": {},
     "output_type": "execute_result"
    }
   ],
   "source": [
    "len(noise)"
   ]
  },
  {
   "cell_type": "code",
   "execution_count": 79,
   "metadata": {},
   "outputs": [
    {
     "data": {
      "text/plain": [
       "(torch.Size([1, 3, 25, 37]),\n",
       " torch.Size([1, 3, 28, 42]),\n",
       " torch.Size([1, 3, 25, 37]))"
      ]
     },
     "execution_count": 79,
     "metadata": {},
     "output_type": "execute_result"
    }
   ],
   "source": [
    "noise[0].shape, noise[1].shape, noise[2].shape"
   ]
  },
  {
   "cell_type": "code",
   "execution_count": 75,
   "metadata": {},
   "outputs": [
    {
     "data": {
      "text/plain": [
       "2"
      ]
     },
     "execution_count": 75,
     "metadata": {},
     "output_type": "execute_result"
    }
   ],
   "source": [
    "len(fixed_noise)"
   ]
  },
  {
   "cell_type": "code",
   "execution_count": 76,
   "metadata": {},
   "outputs": [
    {
     "data": {
      "text/plain": [
       "(torch.Size([1, 3, 25, 37]), torch.Size([1, 3, 28, 42]))"
      ]
     },
     "execution_count": 76,
     "metadata": {},
     "output_type": "execute_result"
    }
   ],
   "source": [
    "fixed_noise[0].shape, fixed_noise[1].shape"
   ]
  },
  {
   "cell_type": "code",
   "execution_count": 71,
   "metadata": {},
   "outputs": [
    {
     "data": {
      "text/plain": [
       "[1]"
      ]
     },
     "execution_count": 71,
     "metadata": {},
     "output_type": "execute_result"
    }
   ],
   "source": [
    "noise_amp"
   ]
  },
  {
   "cell_type": "code",
   "execution_count": null,
   "metadata": {},
   "outputs": [],
   "source": []
  }
 ],
 "metadata": {
  "kernelspec": {
   "display_name": "base",
   "language": "python",
   "name": "python3"
  },
  "language_info": {
   "codemirror_mode": {
    "name": "ipython",
    "version": 3
   },
   "file_extension": ".py",
   "mimetype": "text/x-python",
   "name": "python",
   "nbconvert_exporter": "python",
   "pygments_lexer": "ipython3",
   "version": "3.12.3"
  }
 },
 "nbformat": 4,
 "nbformat_minor": 2
}
